{
 "cells": [
  {
   "cell_type": "markdown",
   "metadata": {},
   "source": [
    "# 1. \n",
    "    1.1 模型处理\n",
    "        1.2 获取数据\n",
    "        1.3 模型\n",
    "        1.4 多个模型\n",
    "        1.5 融合\n",
    "        "
   ]
  },
  {
   "cell_type": "code",
   "execution_count": 4,
   "metadata": {},
   "outputs": [],
   "source": [
    "import jieba \n",
    "import gensim\n",
    "import pandas as pd\n",
    "import numpy as np\n",
    "import jieba.analyse\n",
    "import lightgbm\n",
    "import sklearn\n",
    "from sklearn.metrics import f1_score\n"
   ]
  },
  {
   "cell_type": "code",
   "execution_count": 5,
   "metadata": {},
   "outputs": [
    {
     "data": {
      "text/plain": [
       "<torch._C.Generator at 0x243101aa710>"
      ]
     },
     "execution_count": 5,
     "metadata": {},
     "output_type": "execute_result"
    }
   ],
   "source": [
    "import torch\n",
    "import torch.autograd as autograd\n",
    "import torch.nn as nn\n",
    "import torch.nn.functional as F\n",
    "import torch.optim as optim\n",
    "torch.manual_seed(2019)"
   ]
  },
  {
   "cell_type": "code",
   "execution_count": 72,
   "metadata": {},
   "outputs": [],
   "source": [
    "import matplotlib.pyplot as plt"
   ]
  },
  {
   "cell_type": "markdown",
   "metadata": {},
   "source": [
    "### 1.1激活函数"
   ]
  },
  {
   "cell_type": "markdown",
   "metadata": {},
   "source": [
    "* 1.1.1 $\\text{LogSigmoid}(x) = \\log\\left(\\frac{ 1 }{ 1 + \\exp(-x)}\\right)$\n",
    "\n",
    "将输入输出转换到-5,0"
   ]
  },
  {
   "cell_type": "code",
   "execution_count": 76,
   "metadata": {
    "scrolled": true
   },
   "outputs": [
    {
     "data": {
      "image/png": "[encoded data removed]",
      "text/plain": [
       "<matplotlib.figure.Figure at 0x16f397ec588>"
      ]
     },
     "metadata": {},
     "output_type": "display_data"
    }
   ],
   "source": [
    "m = nn.LogSigmoid()\n",
    "input = torch.from_numpy(np.linspace(-5,5,100))\n",
    "output = m(input)\n",
    "#input ,' ',output\n",
    "plt.plot(input.numpy())\n",
    "plt.plot(output.numpy())\n",
    "plt.show()"
   ]
  },
  {
   "cell_type": "code",
   "execution_count": 61,
   "metadata": {
    "scrolled": true
   },
   "outputs": [
    {
     "data": {
      "text/plain": [
       "(tensor([[ 0.0508,  1.7007,  0.5423],\n",
       "         [-1.7756,  1.8938, -0.6140]]),\n",
       " ' ',\n",
       " tensor([[-0.6681, -0.1677, -0.4583],\n",
       "         [-1.9321, -0.1402, -1.0466]]))"
      ]
     },
     "execution_count": 61,
     "metadata": {},
     "output_type": "execute_result"
    }
   ],
   "source": [
    "m = nn.LogSigmoid()\n",
    "input = torch.randn(2, 3)\n",
    "output = m(input)\n",
    "input ,' ',output"
   ]
  },
  {
   "cell_type": "markdown",
   "metadata": {},
   "source": [
    "* 1.2.2. $\\text{LogSoftmax}(x_{i}) = \\log\\left(\\frac{\\exp(x_i) }{ \\sum_j \\exp(x_j)} \\right)$\n",
    "\n",
    "Applies the `Log(Softmax(x))` function to an n-dimensional input Tensor.\n",
    "The LogSoftmax formulation can be simplified as"
   ]
  },
  {
   "cell_type": "code",
   "execution_count": 62,
   "metadata": {
    "scrolled": false
   },
   "outputs": [
    {
     "data": {
      "text/plain": [
       "(tensor([[ 0.0508,  1.7007,  0.5423],\n",
       "         [-1.7756,  1.8938, -0.6140]]),\n",
       " ' ',\n",
       " tensor([[-2.0594, -0.4095, -1.5679],\n",
       "         [-3.7710, -0.1016, -2.6094]]))"
      ]
     },
     "execution_count": 62,
     "metadata": {},
     "output_type": "execute_result"
    }
   ],
   "source": [
    "m = nn.LogSoftmax(dim=1)\n",
    "output = m(input)\n",
    "input ,' ',output"
   ]
  },
  {
   "cell_type": "markdown",
   "metadata": {},
   "source": [
    "### 1.2损失函数"
   ]
  },
  {
   "cell_type": "markdown",
   "metadata": {},
   "source": [
    "* [loss functin](https://blog.csdn.net/zhangxb35/article/details/72464152)\n",
    "* [loss 2](http://www.cnblogs.com/pinard/p/6437495.html)"
   ]
  },
  {
   "cell_type": "markdown",
   "metadata": {},
   "source": [
    "### 1.1 nn.BCEWithLogitsLoss\n",
    "        his loss combines a `Sigmoid` layer and the `BCELoss` in one single\n",
    "        class. This version is more numerically stable than using a plain `Sigmoid`\n",
    "        followed by a `BCELoss` as, by combining the operations into one layer,\n",
    "        we take advantage of the log-sum-exp trick for numerical stability.\n"
   ]
  },
  {
   "cell_type": "markdown",
   "metadata": {},
   "source": [
    "$\\ell(x, y) = L = \\{l_1,\\dots,l_N\\}^\\top, \\quad$\n",
    "\n",
    "$l_n = - w_n \\left[ t_n \\cdot \\log \\sigma(x_n)+ (1 - t_n) \\cdot \\log (1 - \\sigma(x_n)) \\right]$"
   ]
  },
  {
   "cell_type": "code",
   "execution_count": 45,
   "metadata": {},
   "outputs": [],
   "source": [
    "nn.BCEWithLogitsLoss?"
   ]
  },
  {
   "cell_type": "code",
   "execution_count": 40,
   "metadata": {},
   "outputs": [],
   "source": [
    "    >>> loss = nn.BCEWithLogitsLoss()\n",
    "    >>> input = torch.randn(2,3)\n",
    "    >>> target = torch.tensor([[0,2,1],[1,0,1]]).float()\n",
    "    >>> output = loss(input, target)\n",
    "    "
   ]
  },
  {
   "cell_type": "code",
   "execution_count": 41,
   "metadata": {},
   "outputs": [
    {
     "data": {
      "text/plain": [
       "(tensor([[ 0.5466,  1.1683,  0.9099],\n",
       "         [ 0.8260,  0.0118,  0.0110]]), tensor([[ 0.,  2.,  1.],\n",
       "         [ 1.,  0.,  1.]]), tensor(0.3656))"
      ]
     },
     "execution_count": 41,
     "metadata": {},
     "output_type": "execute_result"
    }
   ],
   "source": [
    "input,target,output"
   ]
  },
  {
   "cell_type": "markdown",
   "metadata": {},
   "source": [
    "### 1.2 BCELoss\n",
    "        二分类用的交叉熵，用的时候需要在该层前面加上 Sigmoid 函数"
   ]
  },
  {
   "cell_type": "markdown",
   "metadata": {},
   "source": [
    "   $\\ell(x, y) = L = \\{l_1,\\dots,l_N\\}^\\top, \\quad$\n",
    "   \n",
    "   $l_n = - w_n \\left[ y_n \\cdot \\log x_n + (1 - y_n) \\cdot \\log (1 - x_n) \\right]$"
   ]
  },
  {
   "cell_type": "markdown",
   "metadata": {},
   "source": [
    "Creates a criterion that measures the Binary Cross Entropy\n",
    "between the target and the output"
   ]
  },
  {
   "cell_type": "code",
   "execution_count": 83,
   "metadata": {},
   "outputs": [],
   "source": [
    "    >>> m = nn.Sigmoid()\n",
    "    >>> loss = nn.BCELoss()\n",
    "    >>> input = torch.randn(3, requires_grad=True)\n",
    "    >>> target = torch.empty(3).random_(2)\n",
    "    >>> output = loss(m(input), target)"
   ]
  },
  {
   "cell_type": "code",
   "execution_count": 84,
   "metadata": {
    "scrolled": false
   },
   "outputs": [
    {
     "name": "stdout",
     "output_type": "stream",
     "text": [
      "tensor([ 0.7340, -0.4394,  0.9255]) \n",
      " tensor([ 1.,  1.,  1.])\n"
     ]
    }
   ],
   "source": [
    "print(input ,'\\n',target)"
   ]
  },
  {
   "cell_type": "markdown",
   "metadata": {},
   "source": [
    "### 1.3 nn.MSELoss?"
   ]
  },
  {
   "cell_type": "markdown",
   "metadata": {},
   "source": [
    "Creates a criterion that measures the mean squared error between\n",
    "`n` elements in the input `x` and target `y`."
   ]
  },
  {
   "cell_type": "markdown",
   "metadata": {},
   "source": [
    "$\\ell(x, y) = L = \\{l_1,\\dots,l_N\\}^\\top, \\quad\n",
    "    l_n = \\left( x_n - y_n \\right)^2$"
   ]
  },
  {
   "cell_type": "code",
   "execution_count": 22,
   "metadata": {},
   "outputs": [],
   "source": [
    "    >>> loss = nn.MSELoss()\n",
    "    >>> input = torch.randn(3, 5, requires_grad=True)\n",
    "    >>> target = torch.randn(3, 5)\n",
    "    >>> output = loss(input, target) "
   ]
  },
  {
   "cell_type": "code",
   "execution_count": 26,
   "metadata": {},
   "outputs": [
    {
     "data": {
      "text/plain": [
       "tensor(1.0155)"
      ]
     },
     "execution_count": 26,
     "metadata": {},
     "output_type": "execute_result"
    }
   ],
   "source": [
    "output"
   ]
  },
  {
   "cell_type": "markdown",
   "metadata": {},
   "source": [
    "### 1.4 MultiLabelMarginLoss\n",
    "* 多分类"
   ]
  },
  {
   "cell_type": "markdown",
   "metadata": {},
   "source": [
    "$\\text{loss}(x, y) = \\sum_{ij}\\frac{\\max(0, 1 - (x[y[j]] - x[i]))}{\\text{x.size}(0)}$\n",
    "\n",
    "\n",
    "where `i == 0` to `x.size(0)`, `j == 0` to `y.size(0)`,\n",
    ":math:`y[j] \\geq 0`, and :math:`i \\neq y[j]` for all `i` and `j`.\n",
    "\n",
    "`y` and `x` must have the same size."
   ]
  },
  {
   "cell_type": "markdown",
   "metadata": {},
   "source": [
    "Creates a criterion that optimizes a multi-class multi-classification\n",
    "hinge loss (margin-based loss) between input `x`  (a 2D mini-batch `Tensor`)\n",
    "and output `y` (which is a 2D `Tensor` of target class indices).\n",
    "For each sample in the mini-batch:"
   ]
  },
  {
   "cell_type": "code",
   "execution_count": 44,
   "metadata": {},
   "outputs": [],
   "source": [
    "nn.MultiLabelMarginLoss?"
   ]
  },
  {
   "cell_type": "code",
   "execution_count": 104,
   "metadata": {},
   "outputs": [
    {
     "data": {
      "text/plain": [
       "tensor(0.)"
      ]
     },
     "execution_count": 104,
     "metadata": {},
     "output_type": "execute_result"
    }
   ],
   "source": [
    "loss = torch.nn.MultiLabelMarginLoss()\n",
    "x = torch.autograd.Variable(torch.FloatTensor([[0.1, 0.2, ]]))\n",
    "y = torch.autograd.Variable(torch.LongTensor([[0,1]]))\n",
    "loss(x, y) # will give 0.8500"
   ]
  },
  {
   "cell_type": "code",
   "execution_count": 97,
   "metadata": {},
   "outputs": [
    {
     "data": {
      "text/plain": [
       "(1, torch.Size([1, 4]))"
      ]
     },
     "execution_count": 97,
     "metadata": {},
     "output_type": "execute_result"
    }
   ],
   "source": [
    "x.size(0),y.size()"
   ]
  },
  {
   "cell_type": "markdown",
   "metadata": {},
   "source": [
    "### 1.5 nn.NLLLoss"
   ]
  },
  {
   "cell_type": "markdown",
   "metadata": {},
   "source": [
    "The negative log likelihood loss. It is useful to train a classification\n",
    "problem with `C` classes.\n",
    "\n",
    "If provided, the optional argument `weight` should be a 1D Tensor assigning\n",
    "weight to each of the classes. This is particularly useful when you have an\n",
    "unbalanced training set.\n",
    "\n",
    "The input given through a forward call is expected to contain\n",
    "log-probabilities of each class. `input` has to be a Tensor of size either\n",
    ":math:`(minibatch, C)` or :math:`(minibatch, C, d_1, d_2, ..., d_K)`\n",
    "with :math:`K \\geq 2` for the `K`-dimensional case (described later).\n",
    "\n",
    "Obtaining log-probabilities in a neural network is easily achieved by\n",
    "adding a  `LogSoftmax`  layer in the last layer of your network.\n",
    "You may use `CrossEntropyLoss` instead, if you prefer not to add an extra\n",
    "layer."
   ]
  },
  {
   "cell_type": "markdown",
   "metadata": {},
   "source": [
    "$\\ell(x, y) = L = \\{l_1,\\dots,l_N\\}^\\top, \\quad$\n",
    "\n",
    "$l_n = - w_{y_n} x_{n,y_n}, \\quad$\n",
    "\n",
    "$w_{c} = \\text{weight}[c] \\cdot \\mathbb{1}\\{c \\not= \\text{ignore_index}\\}$"
   ]
  },
  {
   "cell_type": "code",
   "execution_count": 61,
   "metadata": {},
   "outputs": [
    {
     "name": "stderr",
     "output_type": "stream",
     "text": [
      "F:\\app\\anaconda\\lib\\site-packages\\ipykernel_launcher.py:7: UserWarning: Implicit dimension choice for log_softmax has been deprecated. Change the call to include dim=X as an argument.\n",
      "  import sys\n"
     ]
    }
   ],
   "source": [
    "    >>> m = nn.LogSoftmax()\n",
    "    >>> loss = nn.NLLLoss()\n",
    "    >>> # input is of size N x C = 3 x 5\n",
    "    >>> input = torch.randn(3, 5, requires_grad=True)\n",
    "    >>> # each element in target has to have 0 <= value < C\n",
    "    >>> target = torch.tensor([1, 0, 4])\n",
    "    >>> output = loss(m(input), target)"
   ]
  },
  {
   "cell_type": "code",
   "execution_count": 65,
   "metadata": {},
   "outputs": [
    {
     "data": {
      "text/plain": [
       "(tensor([[ 0.0554,  0.5019,  0.3709, -0.7303, -2.8850],\n",
       "         [ 0.4194, -0.3108,  1.0556,  1.0694,  0.3742],\n",
       "         [ 1.4532,  1.4057, -1.2860, -0.6946,  0.1770]]), tensor([ 1,  0,  4]))"
      ]
     },
     "execution_count": 65,
     "metadata": {},
     "output_type": "execute_result"
    }
   ],
   "source": [
    "input,target"
   ]
  },
  {
   "cell_type": "code",
   "execution_count": 66,
   "metadata": {},
   "outputs": [
    {
     "data": {
      "text/plain": [
       "tensor(1.6779)"
      ]
     },
     "execution_count": 66,
     "metadata": {},
     "output_type": "execute_result"
    }
   ],
   "source": [
    "output"
   ]
  },
  {
   "cell_type": "markdown",
   "metadata": {},
   "source": [
    "### 1.6 cross"
   ]
  },
  {
   "cell_type": "code",
   "execution_count": 55,
   "metadata": {},
   "outputs": [],
   "source": [
    "nn.CrossEntropyLoss?"
   ]
  },
  {
   "cell_type": "markdown",
   "metadata": {},
   "source": [
    "This criterion combines :func:`nn.LogSoftmax` and :func:`nn.NLLLoss` in one single class.\n",
    "\n",
    "It is useful when training a classification problem with `C` classes.\n",
    "If provided, the optional argument :attr:`weight` should be a 1D `Tensor`\n",
    "assigning weight to each of the classes.\n",
    "This is particularly useful when you have an unbalanced training set.\n",
    "\n",
    "The `input` is expected to contain scores for each class.\n",
    "\n",
    "`input` has to be a Tensor of size either :math:`(minibatch, C)` or\n",
    ":math:`(minibatch, C, d_1, d_2, ..., d_K)`\n",
    "with :math:`K \\geq 2` for the `K`-dimensional case (described later).\n",
    "\n",
    "This criterion expects a class index (0 to `C-1`) as the\n",
    "`target` for each value of a 1D tensor of size `minibatch`\n",
    "\n",
    "The loss can be described as:\n",
    "\n",
    ".. math::\n",
    "    $\\text{loss}(x, class) = -\\log\\left(\\frac{\\exp(x[class])}{\\sum_j \\exp(x[j])}\\right)\n",
    "                   = -x[class] + \\log\\left(\\sum_j \\exp(x[j])\\right)$\n",
    "\n",
    "or in the case of the `weight` argument being specified:\n",
    "\n",
    ".. math::\n",
    "   $ \\text{loss}(x, class) = weight[class] \\left(-x[class] + \\log\\left(\\sum_j \\exp(x[j])\\right)\\right)$"
   ]
  },
  {
   "cell_type": "code",
   "execution_count": 53,
   "metadata": {},
   "outputs": [],
   "source": [
    "    >>> loss = nn.CrossEntropyLoss()\n",
    "    >>> input = torch.randn(3, 5, requires_grad=True)\n",
    "    >>> target = torch.empty(3, dtype=torch.long).random_(5)\n",
    "    >>> output = loss(input, target)"
   ]
  },
  {
   "cell_type": "code",
   "execution_count": 54,
   "metadata": {},
   "outputs": [
    {
     "data": {
      "text/plain": [
       "(tensor([[ 1.1955, -0.0964,  0.1848, -0.5693,  0.9420],\n",
       "         [ 0.4138,  2.0289, -1.7637, -1.0270, -2.6222],\n",
       "         [-0.9842,  1.5360,  0.6006, -0.0826, -0.3849]]),\n",
       " tensor([ 4,  1,  4]),\n",
       " tensor(1.3225))"
      ]
     },
     "execution_count": 54,
     "metadata": {},
     "output_type": "execute_result"
    }
   ],
   "source": [
    "input,target,output"
   ]
  },
  {
   "cell_type": "code",
   "execution_count": null,
   "metadata": {},
   "outputs": [],
   "source": []
  },
  {
   "cell_type": "code",
   "execution_count": null,
   "metadata": {},
   "outputs": [],
   "source": []
  },
  {
   "cell_type": "code",
   "execution_count": null,
   "metadata": {},
   "outputs": [],
   "source": []
  },
  {
   "cell_type": "code",
   "execution_count": null,
   "metadata": {},
   "outputs": [],
   "source": []
  }
 ],
 "metadata": {
  "kernelspec": {
   "display_name": "Python 3",
   "language": "python",
   "name": "python3"
  },
  "language_info": {
   "codemirror_mode": {
    "name": "ipython",
    "version": 3
   },
   "file_extension": ".py",
   "mimetype": "text/x-python",
   "name": "python",
   "nbconvert_exporter": "python",
   "pygments_lexer": "ipython3",
   "version": "3.6.4"
  }
 },
 "nbformat": 4,
 "nbformat_minor": 2
}
