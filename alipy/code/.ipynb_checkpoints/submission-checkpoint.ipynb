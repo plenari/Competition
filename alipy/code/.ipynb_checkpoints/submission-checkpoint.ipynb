{
 "cells": [
  {
   "cell_type": "code",
   "execution_count": 1,
   "metadata": {},
   "outputs": [
    {
     "name": "stderr",
     "output_type": "stream",
     "text": [
      "F:\\app\\anaconda\\lib\\site-packages\\gensim\\utils.py:1197: UserWarning: detected Windows; aliasing chunkize to chunkize_serial\n",
      "  warnings.warn(\"detected Windows; aliasing chunkize to chunkize_serial\")\n"
     ]
    }
   ],
   "source": [
    "import jieba \n",
    "import gensim\n",
    "import pandas as pd\n",
    "import numpy as np\n",
    "import jieba.analyse\n",
    "import lightgbm\n",
    "import sklearn\n",
    "import torch\n",
    "from torch import nn\n",
    "from sklearn.metrics import f1_score\n",
    "import torch.nn.functional as F"
   ]
  },
  {
   "cell_type": "markdown",
   "metadata": {},
   "source": [
    "* 产生一个可预测文件"
   ]
  },
  {
   "cell_type": "raw",
   "metadata": {},
   "source": [
    "train=pd.read_csv('../data/atec_nlp_sim_train.csv',sep='\\t',encoding='utf-8',header=None,index_col=None)\n",
    "train=train.iloc[:,:3]\n",
    "train.to_csv('../data/nlp_test.csv',sep='\\t',encoding='utf-8',header=None,index=None)"
   ]
  },
  {
   "cell_type": "markdown",
   "metadata": {},
   "source": [
    "\n",
    "* load 模型"
   ]
  },
  {
   "cell_type": "code",
   "execution_count": 2,
   "metadata": {},
   "outputs": [],
   "source": [
    "import config as c\n",
    "#预测模型\n",
    "bst = lightgbm.Booster(model_file='../model/lightgbm_model')\n",
    "#词向量模型\n",
    "word2vec=gensim.models.KeyedVectors.load_word2vec_format(c.word2vec_file)"
   ]
  },
  {
   "cell_type": "code",
   "execution_count": 35,
   "metadata": {},
   "outputs": [],
   "source": [
    "def predict_line(words1,words2):\n",
    "    '''\n",
    "    01,用来处理\n",
    "    '''\n",
    "    vec1=np.zeros((len(words1),128))\n",
    "    vec2=np.zeros((len(words2),128))\n",
    "    \n",
    "    for i in range(len(words1)):\n",
    "        try:\n",
    "            vec1[i]=word2vec[words1[i]]\n",
    "        except:\n",
    "            pass\n",
    "    for i in range(len(words2)):\n",
    "        try:\n",
    "            vec2[i]=word2vec[words2[i]]\n",
    "        except:\n",
    "            pass\n",
    "    mean1=vec1.mean(axis=0).reshape(1,-1)\n",
    "    mean2=vec2.mean(axis=0).reshape(1,-1)\n",
    "    \n",
    "    train_x=np.hstack([mean1,mean2])\n",
    "    y_pred=bst.predict(train_x)\n",
    "    return y_pred>0.16\n",
    "    "
   ]
  },
  {
   "cell_type": "code",
   "execution_count": 36,
   "metadata": {},
   "outputs": [],
   "source": [
    "def process(inpath, outpath):\n",
    "    with open(inpath, 'r',encoding='utf-8') as fin, open(outpath, 'w',encoding='utf-8') as fout:\n",
    "        for line in fin:\n",
    "            lineno, sen1, sen2 = line.strip().split('\\t')\n",
    "            words1= [ w for w in jieba.cut(sen1) if w.strip() ]\n",
    "            words2= [ w for w in jieba.cut(sen2) if w.strip() ]\n",
    "            y_pred=predict_line(words1,words2)\n",
    "            if y_pred:\n",
    "                fout.write(lineno + '\\t1\\n')\n",
    "            else:\n",
    "                fout.write(lineno + '\\t0\\n')"
   ]
  },
  {
   "cell_type": "code",
   "execution_count": 37,
   "metadata": {},
   "outputs": [],
   "source": [
    "process('../data/nlp_test.csv','../data/nlp.csv')"
   ]
  }
 ],
 "metadata": {
  "kernelspec": {
   "display_name": "Python 3",
   "language": "python",
   "name": "python3"
  },
  "language_info": {
   "codemirror_mode": {
    "name": "ipython",
    "version": 3
   },
   "file_extension": ".py",
   "mimetype": "text/x-python",
   "name": "python",
   "nbconvert_exporter": "python",
   "pygments_lexer": "ipython3",
   "version": "3.6.4"
  }
 },
 "nbformat": 4,
 "nbformat_minor": 2
}
