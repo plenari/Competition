{
 "cells": [
  {
   "cell_type": "code",
   "execution_count": 44,
   "metadata": {},
   "outputs": [],
   "source": [
    "import pandas as pd\n",
    "import lightgbm as lgb\n",
    "from sklearn.model_selection import train_test_split\n",
    "from sklearn.feature_extraction.text import CountVectorizer\n",
    "from sklearn.preprocessing import OneHotEncoder,LabelEncoder\n",
    "from scipy import sparse\n",
    "import os\n",
    "import matplotlib.pyplot as plt\n",
    "from sklearn.decomposition import PCA"
   ]
  },
  {
   "cell_type": "markdown",
   "metadata": {},
   "source": [
    "# Train"
   ]
  },
  {
   "cell_type": "code",
   "execution_count": 15,
   "metadata": {},
   "outputs": [],
   "source": [
    "train=pd.read_csv('data/train.csv')\n",
    "train_des=train.describe()"
   ]
  },
  {
   "cell_type": "code",
   "execution_count": 16,
   "metadata": {},
   "outputs": [
    {
     "data": {
      "text/html": [
       "<div>\n",
       "<style scoped>\n",
       "    .dataframe tbody tr th:only-of-type {\n",
       "        vertical-align: middle;\n",
       "    }\n",
       "\n",
       "    .dataframe tbody tr th {\n",
       "        vertical-align: top;\n",
       "    }\n",
       "\n",
       "    .dataframe thead th {\n",
       "        text-align: right;\n",
       "    }\n",
       "</style>\n",
       "<table border=\"1\" class=\"dataframe\">\n",
       "  <thead>\n",
       "    <tr style=\"text-align: right;\">\n",
       "      <th></th>\n",
       "      <th>aid</th>\n",
       "      <th>uid</th>\n",
       "      <th>label</th>\n",
       "    </tr>\n",
       "  </thead>\n",
       "  <tbody>\n",
       "    <tr>\n",
       "      <th>count</th>\n",
       "      <td>8.798814e+06</td>\n",
       "      <td>8.798814e+06</td>\n",
       "      <td>8.798814e+06</td>\n",
       "    </tr>\n",
       "    <tr>\n",
       "      <th>mean</th>\n",
       "      <td>1.044592e+03</td>\n",
       "      <td>4.126560e+07</td>\n",
       "      <td>-9.040868e-01</td>\n",
       "    </tr>\n",
       "    <tr>\n",
       "      <th>std</th>\n",
       "      <td>6.138768e+02</td>\n",
       "      <td>2.383198e+07</td>\n",
       "      <td>4.273488e-01</td>\n",
       "    </tr>\n",
       "    <tr>\n",
       "      <th>min</th>\n",
       "      <td>6.000000e+00</td>\n",
       "      <td>2.000000e+00</td>\n",
       "      <td>-1.000000e+00</td>\n",
       "    </tr>\n",
       "    <tr>\n",
       "      <th>25%</th>\n",
       "      <td>5.190000e+02</td>\n",
       "      <td>2.061748e+07</td>\n",
       "      <td>-1.000000e+00</td>\n",
       "    </tr>\n",
       "    <tr>\n",
       "      <th>50%</th>\n",
       "      <td>1.107000e+03</td>\n",
       "      <td>4.127522e+07</td>\n",
       "      <td>-1.000000e+00</td>\n",
       "    </tr>\n",
       "    <tr>\n",
       "      <th>75%</th>\n",
       "      <td>1.530000e+03</td>\n",
       "      <td>6.190352e+07</td>\n",
       "      <td>-1.000000e+00</td>\n",
       "    </tr>\n",
       "    <tr>\n",
       "      <th>max</th>\n",
       "      <td>2.216000e+03</td>\n",
       "      <td>8.254290e+07</td>\n",
       "      <td>1.000000e+00</td>\n",
       "    </tr>\n",
       "  </tbody>\n",
       "</table>\n",
       "</div>"
      ],
      "text/plain": [
       "                aid           uid         label\n",
       "count  8.798814e+06  8.798814e+06  8.798814e+06\n",
       "mean   1.044592e+03  4.126560e+07 -9.040868e-01\n",
       "std    6.138768e+02  2.383198e+07  4.273488e-01\n",
       "min    6.000000e+00  2.000000e+00 -1.000000e+00\n",
       "25%    5.190000e+02  2.061748e+07 -1.000000e+00\n",
       "50%    1.107000e+03  4.127522e+07 -1.000000e+00\n",
       "75%    1.530000e+03  6.190352e+07 -1.000000e+00\n",
       "max    2.216000e+03  8.254290e+07  1.000000e+00"
      ]
     },
     "execution_count": 16,
     "metadata": {},
     "output_type": "execute_result"
    }
   ],
   "source": [
    "train_des"
   ]
  },
  {
   "cell_type": "markdown",
   "metadata": {},
   "source": [
    "从train 和test来看没有什么值得学习的"
   ]
  },
  {
   "cell_type": "markdown",
   "metadata": {},
   "source": [
    "# Test"
   ]
  },
  {
   "cell_type": "code",
   "execution_count": 18,
   "metadata": {},
   "outputs": [],
   "source": [
    "predict=pd.read_csv('data/test1.csv')\n",
    "predict_des=predict.describe()"
   ]
  },
  {
   "cell_type": "code",
   "execution_count": 19,
   "metadata": {
    "scrolled": true
   },
   "outputs": [
    {
     "data": {
      "text/html": [
       "<div>\n",
       "<style scoped>\n",
       "    .dataframe tbody tr th:only-of-type {\n",
       "        vertical-align: middle;\n",
       "    }\n",
       "\n",
       "    .dataframe tbody tr th {\n",
       "        vertical-align: top;\n",
       "    }\n",
       "\n",
       "    .dataframe thead th {\n",
       "        text-align: right;\n",
       "    }\n",
       "</style>\n",
       "<table border=\"1\" class=\"dataframe\">\n",
       "  <thead>\n",
       "    <tr style=\"text-align: right;\">\n",
       "      <th></th>\n",
       "      <th>aid</th>\n",
       "      <th>uid</th>\n",
       "    </tr>\n",
       "  </thead>\n",
       "  <tbody>\n",
       "    <tr>\n",
       "      <th>count</th>\n",
       "      <td>2.265989e+06</td>\n",
       "      <td>2.265989e+06</td>\n",
       "    </tr>\n",
       "    <tr>\n",
       "      <th>mean</th>\n",
       "      <td>1.044734e+03</td>\n",
       "      <td>4.127397e+07</td>\n",
       "    </tr>\n",
       "    <tr>\n",
       "      <th>std</th>\n",
       "      <td>6.138297e+02</td>\n",
       "      <td>2.383690e+07</td>\n",
       "    </tr>\n",
       "    <tr>\n",
       "      <th>min</th>\n",
       "      <td>6.000000e+00</td>\n",
       "      <td>8.000000e+00</td>\n",
       "    </tr>\n",
       "    <tr>\n",
       "      <th>25%</th>\n",
       "      <td>5.190000e+02</td>\n",
       "      <td>2.063520e+07</td>\n",
       "    </tr>\n",
       "    <tr>\n",
       "      <th>50%</th>\n",
       "      <td>1.107000e+03</td>\n",
       "      <td>4.127856e+07</td>\n",
       "    </tr>\n",
       "    <tr>\n",
       "      <th>75%</th>\n",
       "      <td>1.530000e+03</td>\n",
       "      <td>6.192064e+07</td>\n",
       "    </tr>\n",
       "    <tr>\n",
       "      <th>max</th>\n",
       "      <td>2.216000e+03</td>\n",
       "      <td>8.254288e+07</td>\n",
       "    </tr>\n",
       "  </tbody>\n",
       "</table>\n",
       "</div>"
      ],
      "text/plain": [
       "                aid           uid\n",
       "count  2.265989e+06  2.265989e+06\n",
       "mean   1.044734e+03  4.127397e+07\n",
       "std    6.138297e+02  2.383690e+07\n",
       "min    6.000000e+00  8.000000e+00\n",
       "25%    5.190000e+02  2.063520e+07\n",
       "50%    1.107000e+03  4.127856e+07\n",
       "75%    1.530000e+03  6.192064e+07\n",
       "max    2.216000e+03  8.254288e+07"
      ]
     },
     "execution_count": 19,
     "metadata": {},
     "output_type": "execute_result"
    }
   ],
   "source": [
    "predict_des"
   ]
  },
  {
   "cell_type": "markdown",
   "metadata": {},
   "source": [
    "# 3. Ad"
   ]
  },
  {
   "cell_type": "code",
   "execution_count": 25,
   "metadata": {},
   "outputs": [],
   "source": [
    "ad_feature=pd.read_csv('data/adFeature.csv')\n",
    "ad_feature_pre=ad_feature.describe()"
   ]
  },
  {
   "cell_type": "code",
   "execution_count": 26,
   "metadata": {},
   "outputs": [
    {
     "data": {
      "text/plain": [
       "Index(['aid', 'advertiserId', 'campaignId', 'creativeId', 'creativeSize',\n",
       "       'adCategoryId', 'productId', 'productType'],\n",
       "      dtype='object')"
      ]
     },
     "execution_count": 26,
     "metadata": {},
     "output_type": "execute_result"
    }
   ],
   "source": [
    "ad_feature.columns"
   ]
  },
  {
   "cell_type": "raw",
   "metadata": {},
   "source": [
    "*广告ID（aid）：广告是指广告主创建的广告创意（或称广告素材）及广告展示相关设置，包含广告的基本信息（广告名称、投放时间等）、广告的推广目标、投放平台、投放的广告规格、所投放的广告创意、广告的受众（即广告的定向设置）以及广告出价等信息\n",
    "*广告主ID（advertiserId）：账户结构分为四级：账户——推广计划——广告——素材，账户和广告主是一一对应关系\n",
    "*推广计划ID（campaignId）：推广计划是广告的集合（类似电脑文件夹功能），广告主可以将推广平台、预算限额、是否匀速投放等条件相同的广告放在同一个推广计划中，方便管理\n",
    "*素材ID（creativeId）：展示给用户直接看到的广告内容，一条广告下可以有多组素材\n",
    "*素材大小（creativeSize）：素材大小ID，标识广告素材不同大小\n",
    "*广告类目（adCategoryId）：广告分类ID，使用广告分类体系\n",
    "*商品ID（productId）：推广的商品ID，系统中用product id 来标识\n",
    "*商品类型（productType）：广告投放目标对应的商品类型（如京东-- 商品、\n",
    "app-- 下载）"
   ]
  },
  {
   "cell_type": "code",
   "execution_count": 136,
   "metadata": {},
   "outputs": [
    {
     "data": {
      "text/plain": [
       "<matplotlib.axes._subplots.AxesSubplot at 0x2109b8ec208>"
      ]
     },
     "execution_count": 136,
     "metadata": {},
     "output_type": "execute_result"
    },
    {
     "data": {
      "image/png": "[encoded data removed]",
      "text/plain": [
       "<matplotlib.figure.Figure at 0x21082ae5518>"
      ]
     },
     "metadata": {},
     "output_type": "display_data"
    }
   ],
   "source": [
    "ad_feature.creativeSize.plot()"
   ]
  },
  {
   "cell_type": "code",
   "execution_count": 28,
   "metadata": {
    "scrolled": true
   },
   "outputs": [
    {
     "data": {
      "text/html": [
       "<div>\n",
       "<style scoped>\n",
       "    .dataframe tbody tr th:only-of-type {\n",
       "        vertical-align: middle;\n",
       "    }\n",
       "\n",
       "    .dataframe tbody tr th {\n",
       "        vertical-align: top;\n",
       "    }\n",
       "\n",
       "    .dataframe thead th {\n",
       "        text-align: right;\n",
       "    }\n",
       "</style>\n",
       "<table border=\"1\" class=\"dataframe\">\n",
       "  <thead>\n",
       "    <tr style=\"text-align: right;\">\n",
       "      <th></th>\n",
       "      <th>aid</th>\n",
       "      <th>advertiserId</th>\n",
       "      <th>campaignId</th>\n",
       "      <th>creativeId</th>\n",
       "      <th>creativeSize</th>\n",
       "      <th>adCategoryId</th>\n",
       "      <th>productId</th>\n",
       "      <th>productType</th>\n",
       "    </tr>\n",
       "  </thead>\n",
       "  <tbody>\n",
       "    <tr>\n",
       "      <th>count</th>\n",
       "      <td>173.000000</td>\n",
       "      <td>173.000000</td>\n",
       "      <td>173.000000</td>\n",
       "      <td>1.730000e+02</td>\n",
       "      <td>173.000000</td>\n",
       "      <td>173.000000</td>\n",
       "      <td>173.000000</td>\n",
       "      <td>173.000000</td>\n",
       "    </tr>\n",
       "    <tr>\n",
       "      <th>mean</th>\n",
       "      <td>1140.364162</td>\n",
       "      <td>13229.202312</td>\n",
       "      <td>159044.612717</td>\n",
       "      <td>9.388567e+05</td>\n",
       "      <td>50.364162</td>\n",
       "      <td>57.335260</td>\n",
       "      <td>2559.277457</td>\n",
       "      <td>7.346821</td>\n",
       "    </tr>\n",
       "    <tr>\n",
       "      <th>std</th>\n",
       "      <td>658.957025</td>\n",
       "      <td>23033.243589</td>\n",
       "      <td>184836.397583</td>\n",
       "      <td>5.211123e+05</td>\n",
       "      <td>24.827317</td>\n",
       "      <td>62.197012</td>\n",
       "      <td>5570.602765</td>\n",
       "      <td>2.827595</td>\n",
       "    </tr>\n",
       "    <tr>\n",
       "      <th>min</th>\n",
       "      <td>6.000000</td>\n",
       "      <td>60.000000</td>\n",
       "      <td>80.000000</td>\n",
       "      <td>5.977000e+03</td>\n",
       "      <td>20.000000</td>\n",
       "      <td>1.000000</td>\n",
       "      <td>0.000000</td>\n",
       "      <td>4.000000</td>\n",
       "    </tr>\n",
       "    <tr>\n",
       "      <th>25%</th>\n",
       "      <td>562.000000</td>\n",
       "      <td>702.000000</td>\n",
       "      <td>31020.000000</td>\n",
       "      <td>4.924840e+05</td>\n",
       "      <td>35.000000</td>\n",
       "      <td>21.000000</td>\n",
       "      <td>0.000000</td>\n",
       "      <td>4.000000</td>\n",
       "    </tr>\n",
       "    <tr>\n",
       "      <th>50%</th>\n",
       "      <td>1171.000000</td>\n",
       "      <td>7229.000000</td>\n",
       "      <td>76104.000000</td>\n",
       "      <td>9.818220e+05</td>\n",
       "      <td>42.000000</td>\n",
       "      <td>27.000000</td>\n",
       "      <td>0.000000</td>\n",
       "      <td>6.000000</td>\n",
       "    </tr>\n",
       "    <tr>\n",
       "      <th>75%</th>\n",
       "      <td>1728.000000</td>\n",
       "      <td>11487.000000</td>\n",
       "      <td>209098.000000</td>\n",
       "      <td>1.383456e+06</td>\n",
       "      <td>59.000000</td>\n",
       "      <td>67.000000</td>\n",
       "      <td>3733.000000</td>\n",
       "      <td>11.000000</td>\n",
       "    </tr>\n",
       "    <tr>\n",
       "      <th>max</th>\n",
       "      <td>2216.000000</td>\n",
       "      <td>158679.000000</td>\n",
       "      <td>766460.000000</td>\n",
       "      <td>1.806760e+06</td>\n",
       "      <td>109.000000</td>\n",
       "      <td>282.000000</td>\n",
       "      <td>28986.000000</td>\n",
       "      <td>11.000000</td>\n",
       "    </tr>\n",
       "  </tbody>\n",
       "</table>\n",
       "</div>"
      ],
      "text/plain": [
       "               aid   advertiserId     campaignId    creativeId  creativeSize  \\\n",
       "count   173.000000     173.000000     173.000000  1.730000e+02    173.000000   \n",
       "mean   1140.364162   13229.202312  159044.612717  9.388567e+05     50.364162   \n",
       "std     658.957025   23033.243589  184836.397583  5.211123e+05     24.827317   \n",
       "min       6.000000      60.000000      80.000000  5.977000e+03     20.000000   \n",
       "25%     562.000000     702.000000   31020.000000  4.924840e+05     35.000000   \n",
       "50%    1171.000000    7229.000000   76104.000000  9.818220e+05     42.000000   \n",
       "75%    1728.000000   11487.000000  209098.000000  1.383456e+06     59.000000   \n",
       "max    2216.000000  158679.000000  766460.000000  1.806760e+06    109.000000   \n",
       "\n",
       "       adCategoryId     productId  productType  \n",
       "count    173.000000    173.000000   173.000000  \n",
       "mean      57.335260   2559.277457     7.346821  \n",
       "std       62.197012   5570.602765     2.827595  \n",
       "min        1.000000      0.000000     4.000000  \n",
       "25%       21.000000      0.000000     4.000000  \n",
       "50%       27.000000      0.000000     6.000000  \n",
       "75%       67.000000   3733.000000    11.000000  \n",
       "max      282.000000  28986.000000    11.000000  "
      ]
     },
     "execution_count": 28,
     "metadata": {},
     "output_type": "execute_result"
    }
   ],
   "source": [
    "ad_feature_pre"
   ]
  },
  {
   "cell_type": "markdown",
   "metadata": {},
   "source": [
    "### Onehot "
   ]
  },
  {
   "cell_type": "code",
   "execution_count": 32,
   "metadata": {},
   "outputs": [],
   "source": [
    "OH=OneHotEncoder(sparse=False)\n",
    "aid=OH.fit_transform(ad_feature.aid.values.reshape(-1,1))"
   ]
  },
  {
   "cell_type": "code",
   "execution_count": 37,
   "metadata": {},
   "outputs": [],
   "source": [
    "ad_f=OH.fit_transform(ad_feature)"
   ]
  },
  {
   "cell_type": "code",
   "execution_count": 41,
   "metadata": {},
   "outputs": [
    {
     "data": {
      "image/png": "[encoded data removed]",
      "text/plain": [
       "<matplotlib.figure.Figure at 0x2108771f9b0>"
      ]
     },
     "metadata": {},
     "output_type": "display_data"
    }
   ],
   "source": [
    "plt.matshow(ad_f)\n",
    "plt.colorbar()\n",
    "plt.show()"
   ]
  },
  {
   "cell_type": "markdown",
   "metadata": {},
   "source": [
    "### ad 的onehot扩展成655维度"
   ]
  },
  {
   "cell_type": "code",
   "execution_count": 43,
   "metadata": {},
   "outputs": [
    {
     "data": {
      "image/png": "[encoded data removed]",
      "text/plain": [
       "<matplotlib.figure.Figure at 0x2108771f208>"
      ]
     },
     "metadata": {},
     "output_type": "display_data"
    }
   ],
   "source": [
    "plt.matshow(ad_feature.corr())\n",
    "plt.colorbar()\n",
    "plt.show()"
   ]
  },
  {
   "cell_type": "code",
   "execution_count": 5,
   "metadata": {},
   "outputs": [
    {
     "data": {
      "text/html": [
       "<div>\n",
       "<style scoped>\n",
       "    .dataframe tbody tr th:only-of-type {\n",
       "        vertical-align: middle;\n",
       "    }\n",
       "\n",
       "    .dataframe tbody tr th {\n",
       "        vertical-align: top;\n",
       "    }\n",
       "\n",
       "    .dataframe thead th {\n",
       "        text-align: right;\n",
       "    }\n",
       "</style>\n",
       "<table border=\"1\" class=\"dataframe\">\n",
       "  <thead>\n",
       "    <tr style=\"text-align: right;\">\n",
       "      <th></th>\n",
       "      <th>aid</th>\n",
       "      <th>advertiserId</th>\n",
       "      <th>campaignId</th>\n",
       "      <th>creativeId</th>\n",
       "      <th>creativeSize</th>\n",
       "      <th>adCategoryId</th>\n",
       "      <th>productId</th>\n",
       "      <th>productType</th>\n",
       "    </tr>\n",
       "  </thead>\n",
       "  <tbody>\n",
       "    <tr>\n",
       "      <th>0</th>\n",
       "      <td>177</td>\n",
       "      <td>8203</td>\n",
       "      <td>76104</td>\n",
       "      <td>1500666</td>\n",
       "      <td>59</td>\n",
       "      <td>282</td>\n",
       "      <td>0</td>\n",
       "      <td>6</td>\n",
       "    </tr>\n",
       "    <tr>\n",
       "      <th>1</th>\n",
       "      <td>2050</td>\n",
       "      <td>19441</td>\n",
       "      <td>178687</td>\n",
       "      <td>245165</td>\n",
       "      <td>53</td>\n",
       "      <td>1</td>\n",
       "      <td>0</td>\n",
       "      <td>6</td>\n",
       "    </tr>\n",
       "    <tr>\n",
       "      <th>2</th>\n",
       "      <td>1716</td>\n",
       "      <td>5552</td>\n",
       "      <td>158101</td>\n",
       "      <td>1080850</td>\n",
       "      <td>35</td>\n",
       "      <td>27</td>\n",
       "      <td>113</td>\n",
       "      <td>9</td>\n",
       "    </tr>\n",
       "    <tr>\n",
       "      <th>3</th>\n",
       "      <td>336</td>\n",
       "      <td>370</td>\n",
       "      <td>4833</td>\n",
       "      <td>119845</td>\n",
       "      <td>22</td>\n",
       "      <td>67</td>\n",
       "      <td>113</td>\n",
       "      <td>9</td>\n",
       "    </tr>\n",
       "    <tr>\n",
       "      <th>4</th>\n",
       "      <td>671</td>\n",
       "      <td>45705</td>\n",
       "      <td>352827</td>\n",
       "      <td>660519</td>\n",
       "      <td>42</td>\n",
       "      <td>67</td>\n",
       "      <td>0</td>\n",
       "      <td>4</td>\n",
       "    </tr>\n",
       "  </tbody>\n",
       "</table>\n",
       "</div>"
      ],
      "text/plain": [
       "    aid  advertiserId  campaignId  creativeId  creativeSize  adCategoryId  \\\n",
       "0   177          8203       76104     1500666            59           282   \n",
       "1  2050         19441      178687      245165            53             1   \n",
       "2  1716          5552      158101     1080850            35            27   \n",
       "3   336           370        4833      119845            22            67   \n",
       "4   671         45705      352827      660519            42            67   \n",
       "\n",
       "   productId  productType  \n",
       "0          0            6  \n",
       "1          0            6  \n",
       "2        113            9  \n",
       "3        113            9  \n",
       "4          0            4  "
      ]
     },
     "execution_count": 5,
     "metadata": {},
     "output_type": "execute_result"
    }
   ],
   "source": [
    "ad_feature.head()"
   ]
  },
  {
   "cell_type": "markdown",
   "metadata": {},
   "source": [
    "### pca"
   ]
  },
  {
   "cell_type": "code",
   "execution_count": 57,
   "metadata": {},
   "outputs": [
    {
     "data": {
      "text/plain": [
       "PCA(copy=True, iterated_power='auto', n_components=0.98, random_state=None,\n",
       "  svd_solver='auto', tol=0.0, whiten=False)"
      ]
     },
     "execution_count": 57,
     "metadata": {},
     "output_type": "execute_result"
    }
   ],
   "source": [
    "pca=PCA(n_components=0.98)\n",
    "pca.fit(ad_feature)"
   ]
  },
  {
   "cell_type": "code",
   "execution_count": 58,
   "metadata": {},
   "outputs": [
    {
     "data": {
      "text/plain": [
       "array([[-9.89406574e-05, -4.51989727e-04],\n",
       "       [ 1.44696042e-03,  4.70127692e-02],\n",
       "       [-1.04287538e-01,  9.93447339e-01],\n",
       "       [-9.94545927e-01, -1.04106280e-01],\n",
       "       [-3.43732951e-06,  6.75508115e-06],\n",
       "       [ 4.94019061e-06, -4.11928699e-05],\n",
       "       [ 6.36404447e-04, -3.72288572e-03],\n",
       "       [ 1.85440174e-07, -4.53224846e-06]])"
      ]
     },
     "execution_count": 58,
     "metadata": {},
     "output_type": "execute_result"
    }
   ],
   "source": [
    "#主成分\n",
    "pca.components_.T"
   ]
  },
  {
   "cell_type": "code",
   "execution_count": 59,
   "metadata": {},
   "outputs": [
    {
     "data": {
      "text/plain": [
       "array([0.89524091, 0.10315255])"
      ]
     },
     "execution_count": 59,
     "metadata": {},
     "output_type": "execute_result"
    }
   ],
   "source": [
    "#主成分方差比率\n",
    "pca.explained_variance_ratio_"
   ]
  },
  {
   "cell_type": "markdown",
   "metadata": {},
   "source": [
    "## kernel pca"
   ]
  },
  {
   "cell_type": "code",
   "execution_count": 60,
   "metadata": {},
   "outputs": [],
   "source": [
    "from sklearn.decomposition import KernelPCA"
   ]
  },
  {
   "cell_type": "code",
   "execution_count": 69,
   "metadata": {
    "scrolled": true
   },
   "outputs": [
    {
     "data": {
      "text/plain": [
       "array([[ 8.94579011e-02,  3.17263048e-02],\n",
       "       [ 8.25184911e-02,  1.63583314e-03],\n",
       "       [-1.92969862e-01, -1.28799147e-01],\n",
       "       [-1.39076425e-01, -1.06404464e-01],\n",
       "       [ 9.86635954e-02, -3.02300254e-02],\n",
       "       [-9.51486974e-02,  1.17882609e-01],\n",
       "       [-1.77839117e-01, -1.16027868e-01],\n",
       "       [-5.57867704e-02,  1.91149150e-01],\n",
       "       [ 1.38932622e-01, -4.80516646e-02],\n",
       "       [ 9.86635954e-02, -3.02300254e-02],\n",
       "       [ 1.38932622e-01, -4.80516646e-02],\n",
       "       [-5.18357365e-02,  1.73069798e-01],\n",
       "       [ 1.36073390e-01, -4.65963654e-02],\n",
       "       [ 9.13322120e-02,  1.34497265e-03],\n",
       "       [-5.86251613e-02,  1.50841722e-01],\n",
       "       [-1.12083553e-01, -4.93969364e-02],\n",
       "       [-8.53590954e-02,  7.93142955e-02],\n",
       "       [-7.49899150e-02, -4.12748809e-02],\n",
       "       [ 8.97800282e-02,  2.11845303e-03],\n",
       "       [-1.94143750e-01, -1.30541894e-01],\n",
       "       [ 1.18117718e-01, -2.98625281e-02],\n",
       "       [ 6.69145218e-03, -6.12687745e-02],\n",
       "       [ 7.23719950e-02, -6.10886155e-02],\n",
       "       [ 1.12800017e-01, -3.40632152e-02],\n",
       "       [-7.69170727e-02,  7.49630707e-02],\n",
       "       [-5.57867704e-02,  1.91149150e-01],\n",
       "       [-1.92157177e-01, -1.28436688e-01],\n",
       "       [ 9.16498702e-02, -7.06001980e-02],\n",
       "       [-5.38504932e-02,  1.61230131e-01],\n",
       "       [ 8.94579011e-02,  3.17263048e-02],\n",
       "       [-1.94143750e-01, -1.30541894e-01],\n",
       "       [ 8.64893084e-02,  3.06029256e-03],\n",
       "       [ 7.89893962e-02, -2.19498271e-03],\n",
       "       [-1.92157177e-01, -1.28436688e-01],\n",
       "       [ 1.07304044e-01, -4.95477084e-02],\n",
       "       [-1.69160277e-01, -1.07425626e-01],\n",
       "       [ 1.22818524e-01, -5.65666513e-02],\n",
       "       [-5.36167674e-02,  1.81452297e-01],\n",
       "       [-6.41506755e-02,  1.78015599e-01],\n",
       "       [-1.69160277e-01, -1.07425626e-01],\n",
       "       [ 1.14687371e-01, -3.68584676e-02],\n",
       "       [ 1.07304044e-01, -4.95477084e-02],\n",
       "       [ 1.13361792e-01, -3.33791407e-02],\n",
       "       [-1.51508881e-01, -1.17047617e-01],\n",
       "       [ 1.39097524e-01, -4.81668751e-02],\n",
       "       [-5.57867704e-02,  1.91149150e-01],\n",
       "       [ 1.41452996e-01, -4.92716616e-02],\n",
       "       [ 7.15461988e-02, -5.96817658e-02],\n",
       "       [-5.23875219e-02,  1.56150691e-01],\n",
       "       [-1.66426066e-01, -1.04787558e-01],\n",
       "       [-1.09588953e-01, -4.83979939e-02],\n",
       "       [-1.40701504e-01, -7.88620646e-02],\n",
       "       [ 1.14405508e-01, -3.40080249e-02],\n",
       "       [ 1.18117718e-01, -2.98625281e-02],\n",
       "       [-1.45008533e-01, -1.11043321e-01],\n",
       "       [-9.82771770e-02,  1.24110477e-01],\n",
       "       [ 1.10054351e-01, -1.44674924e-02],\n",
       "       [-9.82771770e-02,  1.24110477e-01],\n",
       "       [-1.00372376e-01,  1.29883449e-01],\n",
       "       [ 1.44184222e-01, -5.06500466e-02],\n",
       "       [-5.83971158e-02,  1.35956513e-01],\n",
       "       [ 1.13361792e-01, -3.33791407e-02],\n",
       "       [ 1.31046340e-01, -6.23171707e-02],\n",
       "       [-4.72657756e-02,  1.39773231e-01],\n",
       "       [-1.51508881e-01, -1.17047617e-01],\n",
       "       [ 1.27528519e-01, -4.02940752e-02],\n",
       "       [-9.69889674e-02,  1.13997289e-01],\n",
       "       [-5.03620260e-02,  1.52143949e-01],\n",
       "       [-5.63084268e-02,  1.75605740e-01],\n",
       "       [ 3.52312689e-02, -2.88654129e-02],\n",
       "       [-1.92969862e-01, -1.28799147e-01],\n",
       "       [ 7.75187979e-02,  1.63284046e-02],\n",
       "       [ 1.13743688e-01, -3.39823806e-02],\n",
       "       [ 1.40168882e-01, -4.86479184e-02],\n",
       "       [-6.41506755e-02,  1.78015599e-01],\n",
       "       [ 8.53238906e-02,  3.11670260e-02],\n",
       "       [ 9.54201282e-02, -3.07616584e-02],\n",
       "       [ 1.31046340e-01, -6.23171707e-02],\n",
       "       [ 8.45600912e-02,  3.11689338e-02],\n",
       "       [-1.12371094e-01, -4.90038023e-02],\n",
       "       [ 9.25689316e-02,  3.28714844e-02],\n",
       "       [-1.92969862e-01, -1.28799147e-01],\n",
       "       [ 1.22818524e-01, -5.65666513e-02],\n",
       "       [ 8.73644387e-02, -1.57561556e-04],\n",
       "       [ 9.23318570e-02,  9.65492408e-04],\n",
       "       [ 9.23832569e-02, -7.13066203e-02],\n",
       "       [ 1.11446695e-01, -3.45433995e-02],\n",
       "       [ 3.52312689e-02, -2.88654129e-02],\n",
       "       [ 1.39097524e-01, -4.81668751e-02],\n",
       "       [-1.77839117e-01, -1.16027868e-01],\n",
       "       [-1.94143750e-01, -1.30541894e-01],\n",
       "       [-1.39076425e-01, -1.06404464e-01],\n",
       "       [ 8.23890227e-02,  1.66714539e-03],\n",
       "       [ 1.44184222e-01, -5.06500466e-02],\n",
       "       [-6.10127754e-02,  2.04920231e-01],\n",
       "       [-1.12371094e-01, -4.90038023e-02],\n",
       "       [-5.43036325e-02,  1.83316563e-01],\n",
       "       [ 1.10519124e-01, -5.23261726e-02],\n",
       "       [-1.39076425e-01, -1.06404464e-01],\n",
       "       [-8.88424608e-02,  9.57172744e-02],\n",
       "       [ 9.01720617e-02,  3.12958104e-02],\n",
       "       [-6.10127754e-02,  2.04920231e-01],\n",
       "       [ 1.14060712e-01, -3.61341641e-02],\n",
       "       [-1.39076425e-01, -1.06404464e-01],\n",
       "       [-1.74752450e-01, -1.12505290e-01],\n",
       "       [ 8.25271190e-02,  2.95619256e-02],\n",
       "       [-1.45008533e-01, -1.11043321e-01],\n",
       "       [ 1.44184222e-01, -5.06500466e-02],\n",
       "       [ 1.22818524e-01, -5.65666513e-02],\n",
       "       [ 1.16318601e-01, -3.55709830e-02],\n",
       "       [-5.36167674e-02,  1.81452297e-01],\n",
       "       [ 7.75187979e-02,  1.63284046e-02],\n",
       "       [ 8.03597169e-02,  1.65878350e-02],\n",
       "       [ 9.09360541e-02,  3.24537423e-02],\n",
       "       [-4.86302653e-02,  1.62743017e-01],\n",
       "       [-9.51486974e-02,  1.17882609e-01],\n",
       "       [-9.69035699e-02,  1.20777131e-01],\n",
       "       [ 1.27528519e-01, -4.02940752e-02],\n",
       "       [-7.37559030e-02, -3.99617708e-02],\n",
       "       [-4.12775795e-02,  1.19181080e-01],\n",
       "       [-4.12775795e-02,  1.19181080e-01],\n",
       "       [ 6.69145218e-03, -6.12687745e-02],\n",
       "       [ 8.64893084e-02,  3.06029256e-03],\n",
       "       [ 1.22818524e-01, -5.65666513e-02],\n",
       "       [ 1.07304044e-01, -4.95477084e-02],\n",
       "       [-5.03620260e-02,  1.52143949e-01],\n",
       "       [ 1.15486302e-01, -2.83651856e-02],\n",
       "       [-4.72397892e-02,  1.58527737e-01],\n",
       "       [-1.82930133e-01, -1.19541998e-01],\n",
       "       [-9.69889674e-02,  1.13997289e-01],\n",
       "       [ 9.17699348e-02,  5.74681581e-04],\n",
       "       [ 8.12405589e-02,  2.98333678e-02],\n",
       "       [-4.09228582e-02,  1.36633598e-01],\n",
       "       [-4.72657756e-02,  1.39773231e-01],\n",
       "       [-1.44365050e-01, -1.10168368e-01],\n",
       "       [ 1.44184222e-01, -5.06500466e-02],\n",
       "       [-4.76163463e-02,  1.45705770e-01],\n",
       "       [ 9.05298968e-02,  1.33801434e-03],\n",
       "       [ 5.55241506e-02, -7.32119664e-02],\n",
       "       [ 6.69145218e-03, -6.12687745e-02],\n",
       "       [ 1.10054351e-01, -1.44674924e-02],\n",
       "       [-5.38504932e-02,  1.61230131e-01],\n",
       "       [ 7.24868085e-02, -6.02892110e-02],\n",
       "       [-5.82373758e-02,  1.71996955e-01],\n",
       "       [-1.38681854e-01, -9.44966129e-02],\n",
       "       [ 8.37523446e-02,  3.00186607e-02],\n",
       "       [ 1.18653601e-01, -2.94618013e-02],\n",
       "       [-1.90443270e-01, -1.26850147e-01],\n",
       "       [ 1.40168882e-01, -4.86479184e-02],\n",
       "       [-1.73962690e-01, -1.12154230e-01],\n",
       "       [-1.14397766e-01, -5.02633268e-02],\n",
       "       [-5.28211641e-02,  1.15826232e-01],\n",
       "       [-1.46596503e-01, -1.12212390e-01],\n",
       "       [ 1.12684086e-01, -5.37631764e-02],\n",
       "       [-1.92969862e-01, -1.28799147e-01],\n",
       "       [-3.60286643e-02,  1.17870835e-01],\n",
       "       [ 1.18653601e-01, -2.94618013e-02],\n",
       "       [-1.17535212e-01, -5.22065382e-02],\n",
       "       [-5.47887088e-02,  1.55927049e-01],\n",
       "       [ 9.25689316e-02,  3.28714844e-02],\n",
       "       [-4.72397892e-02,  1.58527737e-01],\n",
       "       [-3.78857224e-02, -7.69079910e-02],\n",
       "       [ 9.09714464e-02,  5.58396507e-04],\n",
       "       [-6.06655513e-02,  1.35670311e-01],\n",
       "       [ 3.40251428e-02, -3.32487161e-02],\n",
       "       [ 1.27528519e-01, -4.02940752e-02],\n",
       "       [ 1.38932622e-01, -4.80516646e-02],\n",
       "       [ 1.12684086e-01, -5.37631764e-02],\n",
       "       [ 1.15795059e-01, -3.54776885e-02],\n",
       "       [ 1.41452996e-01, -4.92716616e-02],\n",
       "       [ 1.44184222e-01, -5.06500466e-02],\n",
       "       [-1.91248707e-01, -1.27208129e-01],\n",
       "       [-1.17535212e-01, -5.22065382e-02]])"
      ]
     },
     "execution_count": 69,
     "metadata": {},
     "output_type": "execute_result"
    }
   ],
   "source": [
    "ker_pca=KernelPCA(n_components=2,kernel='rbf',gamma=0.01)\n",
    "ker_pca.fit_transform(ad_f)"
   ]
  },
  {
   "cell_type": "markdown",
   "metadata": {},
   "source": [
    "## 增量pca\n",
    "    当数据量比较大的时候可以用这个"
   ]
  },
  {
   "cell_type": "markdown",
   "metadata": {},
   "source": [
    "## LDA"
   ]
  },
  {
   "cell_type": "code",
   "execution_count": 76,
   "metadata": {},
   "outputs": [],
   "source": [
    "from sklearn.decomposition import LatentDirichletAllocation"
   ]
  },
  {
   "cell_type": "code",
   "execution_count": 82,
   "metadata": {},
   "outputs": [
    {
     "name": "stderr",
     "output_type": "stream",
     "text": [
      "F:\\app\\anaconda\\lib\\site-packages\\sklearn\\decomposition\\online_lda.py:536: DeprecationWarning: The default value for 'learning_method' will be changed from 'online' to 'batch' in the release 0.20. This warning was introduced in 0.18.\n",
      "  DeprecationWarning)\n"
     ]
    },
    {
     "data": {
      "text/plain": [
       "LatentDirichletAllocation(batch_size=128, doc_topic_prior=None,\n",
       "             evaluate_every=-1, learning_decay=0.7, learning_method=None,\n",
       "             learning_offset=10.0, max_doc_update_iter=100, max_iter=10,\n",
       "             mean_change_tol=0.001, n_components=10, n_jobs=1,\n",
       "             n_topics=None, perp_tol=0.1, random_state=None,\n",
       "             topic_word_prior=None, total_samples=1000000.0, verbose=0)"
      ]
     },
     "execution_count": 82,
     "metadata": {},
     "output_type": "execute_result"
    }
   ],
   "source": [
    "lda=LatentDirichletAllocation()\n",
    "lda.fit(ad_f)"
   ]
  },
  {
   "cell_type": "markdown",
   "metadata": {},
   "source": [
    "# 4. 用户"
   ]
  },
  {
   "cell_type": "raw",
   "metadata": {},
   "source": [
    "用户特征包含以下特征组（feature_group_name），如果具体特征取值未知，均\n",
    "以0 表示：\n",
    "• 年龄（age）：分段表示，每个序号表示一个年龄分段\n",
    "• 性别（gender）：男/ 女\n",
    "• 婚姻状况（marriageStatus）：单身/ 已婚等状态（多个状态可共存）\n",
    "• 学历（education）：博士/ 硕士/ 本科/ 高中/ 初中/ 小学\n",
    "• 消费能力（consumptionAbility）：高/ 低\n",
    "• 地理位置（LBS）：每个序号代表一个地理位置\n",
    "• 兴趣类目（interest）： 由不同数据源挖掘得到的5 个特征组， 分别以\n",
    "interest1, interest2, interest3, interest4, interest5 表示，每个兴趣特征组包\n",
    "含若干个兴趣ID\n",
    "• 关键词（keyword）：较兴趣类目更细粒度地表示用户喜好，由不同数据源挖\n",
    "掘得到的3 个特征组，分别以kw1, kw2, kw3 表示，每个关键词特征组包含若\n",
    "干用户感兴趣的关键词\n",
    "• 主题（topic）：使用LDA 挖掘的用户喜好主题，由不同数据源挖掘得到的3\n",
    "个特征组，分别以topic1, topic2, topic3 表示\n",
    "• APP 近期安装行为（appIdInstall）：63 天内安装的APP，每个APP 表示为一\n",
    "个唯一的ID\n",
    "• APP 活跃（appIdAction）：用户使用的活跃APP\n",
    "• 上网连接类型（ct）：WIFI/2G/3G/4G\n",
    "• 操作系统（os）：Android/IOS，不区分版本号\n",
    "• 移动运营商（carrier）：移动运营商，移动/ 联通/ 电信/ 其他\n",
    "• 有房（house）：是否有房"
   ]
  },
  {
   "cell_type": "code",
   "execution_count": 92,
   "metadata": {},
   "outputs": [],
   "source": [
    "user_features=pd.read_csv('data/user_feature-0.csv',index_col=0)"
   ]
  },
  {
   "cell_type": "markdown",
   "metadata": {},
   "source": [
    "## topic"
   ]
  },
  {
   "cell_type": "code",
   "execution_count": 125,
   "metadata": {},
   "outputs": [
    {
     "data": {
      "text/plain": [
       "0     9826 105 8525 5488 7281\n",
       "1    4391 9140 5669 1348 4388\n",
       "2    1502 5488 9826 2187 8088\n",
       "3    1619 7342 3064 9213 8525\n",
       "4      477 9826 5808 644 2747\n",
       "Name: topic1, dtype: object"
      ]
     },
     "execution_count": 125,
     "metadata": {},
     "output_type": "execute_result"
    }
   ],
   "source": [
    "user_features.topic1.head()"
   ]
  },
  {
   "cell_type": "markdown",
   "metadata": {},
   "source": [
    "## 操作系统"
   ]
  },
  {
   "cell_type": "code",
   "execution_count": 108,
   "metadata": {},
   "outputs": [
    {
     "data": {
      "text/plain": [
       "0      2\n",
       "1      1\n",
       "2      1\n",
       "3    1 2\n",
       "4      1\n",
       "Name: os, dtype: object"
      ]
     },
     "execution_count": 108,
     "metadata": {},
     "output_type": "execute_result"
    }
   ],
   "source": [
    "os=user_features.os\n",
    "os.head()"
   ]
  },
  {
   "cell_type": "code",
   "execution_count": 116,
   "metadata": {},
   "outputs": [],
   "source": [
    "cvt=LabelEncoder()"
   ]
  },
  {
   "cell_type": "code",
   "execution_count": 117,
   "metadata": {},
   "outputs": [
    {
     "name": "stderr",
     "output_type": "stream",
     "text": [
      "F:\\app\\anaconda\\lib\\site-packages\\sklearn\\preprocessing\\label.py:111: DataConversionWarning: A column-vector y was passed when a 1d array was expected. Please change the shape of y to (n_samples, ), for example using ravel().\n",
      "  y = column_or_1d(y, warn=True)\n"
     ]
    }
   ],
   "source": [
    "os_cv=cvt.fit_transform(os.values.reshape(-1,1))"
   ]
  },
  {
   "cell_type": "markdown",
   "metadata": {},
   "source": [
    "### 近期安装"
   ]
  },
  {
   "cell_type": "code",
   "execution_count": 127,
   "metadata": {},
   "outputs": [
    {
     "data": {
      "text/plain": [
       "111      21699 50700 62170 10525 51634 43468 14885 34634\n",
       "166    11927 55984 19563 18728 31684 17003 29323 1282...\n",
       "168                                    45338 45738 45516\n",
       "216    34634 41401 57271 43647 33598 8173 53629 16524...\n",
       "230    10876 8355 888 45857 60760 29021 57649 4778 47...\n",
       "Name: appIdInstall, dtype: object"
      ]
     },
     "execution_count": 127,
     "metadata": {},
     "output_type": "execute_result"
    }
   ],
   "source": [
    "user_features.appIdInstall.dropna().head(5)"
   ]
  },
  {
   "cell_type": "code",
   "execution_count": 98,
   "metadata": {},
   "outputs": [
    {
     "data": {
      "text/html": [
       "<div>\n",
       "<style scoped>\n",
       "    .dataframe tbody tr th:only-of-type {\n",
       "        vertical-align: middle;\n",
       "    }\n",
       "\n",
       "    .dataframe tbody tr th {\n",
       "        vertical-align: top;\n",
       "    }\n",
       "\n",
       "    .dataframe thead th {\n",
       "        text-align: right;\n",
       "    }\n",
       "</style>\n",
       "<table border=\"1\" class=\"dataframe\">\n",
       "  <thead>\n",
       "    <tr style=\"text-align: right;\">\n",
       "      <th></th>\n",
       "      <th>uid</th>\n",
       "      <th>age</th>\n",
       "      <th>gender</th>\n",
       "      <th>education</th>\n",
       "      <th>consumptionAbility</th>\n",
       "      <th>LBS</th>\n",
       "      <th>carrier</th>\n",
       "      <th>house</th>\n",
       "    </tr>\n",
       "  </thead>\n",
       "  <tbody>\n",
       "    <tr>\n",
       "      <th>uid</th>\n",
       "      <td>1.000000</td>\n",
       "      <td>-0.003874</td>\n",
       "      <td>0.000048</td>\n",
       "      <td>0.002513</td>\n",
       "      <td>-0.000263</td>\n",
       "      <td>-0.001276</td>\n",
       "      <td>0.000270</td>\n",
       "      <td>NaN</td>\n",
       "    </tr>\n",
       "    <tr>\n",
       "      <th>age</th>\n",
       "      <td>-0.003874</td>\n",
       "      <td>1.000000</td>\n",
       "      <td>-0.049512</td>\n",
       "      <td>0.115250</td>\n",
       "      <td>-0.053355</td>\n",
       "      <td>-0.003171</td>\n",
       "      <td>-0.040213</td>\n",
       "      <td>NaN</td>\n",
       "    </tr>\n",
       "    <tr>\n",
       "      <th>gender</th>\n",
       "      <td>0.000048</td>\n",
       "      <td>-0.049512</td>\n",
       "      <td>1.000000</td>\n",
       "      <td>0.016039</td>\n",
       "      <td>0.084040</td>\n",
       "      <td>-0.002402</td>\n",
       "      <td>0.017519</td>\n",
       "      <td>NaN</td>\n",
       "    </tr>\n",
       "    <tr>\n",
       "      <th>education</th>\n",
       "      <td>0.002513</td>\n",
       "      <td>0.115250</td>\n",
       "      <td>0.016039</td>\n",
       "      <td>1.000000</td>\n",
       "      <td>0.112045</td>\n",
       "      <td>0.000471</td>\n",
       "      <td>0.180202</td>\n",
       "      <td>NaN</td>\n",
       "    </tr>\n",
       "    <tr>\n",
       "      <th>consumptionAbility</th>\n",
       "      <td>-0.000263</td>\n",
       "      <td>-0.053355</td>\n",
       "      <td>0.084040</td>\n",
       "      <td>0.112045</td>\n",
       "      <td>1.000000</td>\n",
       "      <td>0.018497</td>\n",
       "      <td>0.202957</td>\n",
       "      <td>NaN</td>\n",
       "    </tr>\n",
       "    <tr>\n",
       "      <th>LBS</th>\n",
       "      <td>-0.001276</td>\n",
       "      <td>-0.003171</td>\n",
       "      <td>-0.002402</td>\n",
       "      <td>0.000471</td>\n",
       "      <td>0.018497</td>\n",
       "      <td>1.000000</td>\n",
       "      <td>0.005974</td>\n",
       "      <td>NaN</td>\n",
       "    </tr>\n",
       "    <tr>\n",
       "      <th>carrier</th>\n",
       "      <td>0.000270</td>\n",
       "      <td>-0.040213</td>\n",
       "      <td>0.017519</td>\n",
       "      <td>0.180202</td>\n",
       "      <td>0.202957</td>\n",
       "      <td>0.005974</td>\n",
       "      <td>1.000000</td>\n",
       "      <td>NaN</td>\n",
       "    </tr>\n",
       "    <tr>\n",
       "      <th>house</th>\n",
       "      <td>NaN</td>\n",
       "      <td>NaN</td>\n",
       "      <td>NaN</td>\n",
       "      <td>NaN</td>\n",
       "      <td>NaN</td>\n",
       "      <td>NaN</td>\n",
       "      <td>NaN</td>\n",
       "      <td>NaN</td>\n",
       "    </tr>\n",
       "  </tbody>\n",
       "</table>\n",
       "</div>"
      ],
      "text/plain": [
       "                         uid       age    gender  education  \\\n",
       "uid                 1.000000 -0.003874  0.000048   0.002513   \n",
       "age                -0.003874  1.000000 -0.049512   0.115250   \n",
       "gender              0.000048 -0.049512  1.000000   0.016039   \n",
       "education           0.002513  0.115250  0.016039   1.000000   \n",
       "consumptionAbility -0.000263 -0.053355  0.084040   0.112045   \n",
       "LBS                -0.001276 -0.003171 -0.002402   0.000471   \n",
       "carrier             0.000270 -0.040213  0.017519   0.180202   \n",
       "house                    NaN       NaN       NaN        NaN   \n",
       "\n",
       "                    consumptionAbility       LBS   carrier  house  \n",
       "uid                          -0.000263 -0.001276  0.000270    NaN  \n",
       "age                          -0.053355 -0.003171 -0.040213    NaN  \n",
       "gender                        0.084040 -0.002402  0.017519    NaN  \n",
       "education                     0.112045  0.000471  0.180202    NaN  \n",
       "consumptionAbility            1.000000  0.018497  0.202957    NaN  \n",
       "LBS                           0.018497  1.000000  0.005974    NaN  \n",
       "carrier                       0.202957  0.005974  1.000000    NaN  \n",
       "house                              NaN       NaN       NaN    NaN  "
      ]
     },
     "execution_count": 98,
     "metadata": {},
     "output_type": "execute_result"
    }
   ],
   "source": [
    "user_features.corr()"
   ]
  },
  {
   "cell_type": "code",
   "execution_count": 101,
   "metadata": {},
   "outputs": [
    {
     "data": {
      "image/png": "[encoded data removed]",
      "text/plain": [
       "<matplotlib.figure.Figure at 0x2109b735470>"
      ]
     },
     "metadata": {},
     "output_type": "display_data"
    }
   ],
   "source": [
    "corr=user_features.corr()\n",
    "corr[corr==1.0]=0.0\n",
    "plt.matshow(corr)\n",
    "plt.colorbar()\n",
    "plt.show()"
   ]
  },
  {
   "cell_type": "markdown",
   "metadata": {},
   "source": [
    "## 描述"
   ]
  },
  {
   "cell_type": "code",
   "execution_count": 93,
   "metadata": {},
   "outputs": [],
   "source": [
    "user_features_des=user_features.describe()"
   ]
  },
  {
   "cell_type": "code",
   "execution_count": 94,
   "metadata": {},
   "outputs": [
    {
     "data": {
      "text/html": [
       "<div>\n",
       "<style scoped>\n",
       "    .dataframe tbody tr th:only-of-type {\n",
       "        vertical-align: middle;\n",
       "    }\n",
       "\n",
       "    .dataframe tbody tr th {\n",
       "        vertical-align: top;\n",
       "    }\n",
       "\n",
       "    .dataframe thead th {\n",
       "        text-align: right;\n",
       "    }\n",
       "</style>\n",
       "<table border=\"1\" class=\"dataframe\">\n",
       "  <thead>\n",
       "    <tr style=\"text-align: right;\">\n",
       "      <th></th>\n",
       "      <th>uid</th>\n",
       "      <th>age</th>\n",
       "      <th>gender</th>\n",
       "      <th>education</th>\n",
       "      <th>consumptionAbility</th>\n",
       "      <th>LBS</th>\n",
       "      <th>carrier</th>\n",
       "      <th>house</th>\n",
       "    </tr>\n",
       "  </thead>\n",
       "  <tbody>\n",
       "    <tr>\n",
       "      <th>count</th>\n",
       "      <td>2.000000e+05</td>\n",
       "      <td>200000.000000</td>\n",
       "      <td>200000.000000</td>\n",
       "      <td>200000.000000</td>\n",
       "      <td>200000.000000</td>\n",
       "      <td>199999.000000</td>\n",
       "      <td>200000.000000</td>\n",
       "      <td>36649.0</td>\n",
       "    </tr>\n",
       "    <tr>\n",
       "      <th>mean</th>\n",
       "      <td>4.138054e+07</td>\n",
       "      <td>3.018010</td>\n",
       "      <td>1.314770</td>\n",
       "      <td>4.536405</td>\n",
       "      <td>0.957125</td>\n",
       "      <td>444.816319</td>\n",
       "      <td>1.095805</td>\n",
       "      <td>1.0</td>\n",
       "    </tr>\n",
       "    <tr>\n",
       "      <th>std</th>\n",
       "      <td>2.384128e+07</td>\n",
       "      <td>1.517612</td>\n",
       "      <td>0.471371</td>\n",
       "      <td>2.441212</td>\n",
       "      <td>0.634144</td>\n",
       "      <td>285.168415</td>\n",
       "      <td>0.961302</td>\n",
       "      <td>0.0</td>\n",
       "    </tr>\n",
       "    <tr>\n",
       "      <th>min</th>\n",
       "      <td>5.500000e+02</td>\n",
       "      <td>0.000000</td>\n",
       "      <td>0.000000</td>\n",
       "      <td>0.000000</td>\n",
       "      <td>0.000000</td>\n",
       "      <td>0.000000</td>\n",
       "      <td>0.000000</td>\n",
       "      <td>1.0</td>\n",
       "    </tr>\n",
       "    <tr>\n",
       "      <th>25%</th>\n",
       "      <td>2.074605e+07</td>\n",
       "      <td>2.000000</td>\n",
       "      <td>1.000000</td>\n",
       "      <td>2.000000</td>\n",
       "      <td>1.000000</td>\n",
       "      <td>192.000000</td>\n",
       "      <td>0.000000</td>\n",
       "      <td>1.0</td>\n",
       "    </tr>\n",
       "    <tr>\n",
       "      <th>50%</th>\n",
       "      <td>4.142476e+07</td>\n",
       "      <td>3.000000</td>\n",
       "      <td>1.000000</td>\n",
       "      <td>6.000000</td>\n",
       "      <td>1.000000</td>\n",
       "      <td>425.000000</td>\n",
       "      <td>1.000000</td>\n",
       "      <td>1.0</td>\n",
       "    </tr>\n",
       "    <tr>\n",
       "      <th>75%</th>\n",
       "      <td>6.213399e+07</td>\n",
       "      <td>4.000000</td>\n",
       "      <td>2.000000</td>\n",
       "      <td>7.000000</td>\n",
       "      <td>1.000000</td>\n",
       "      <td>687.000000</td>\n",
       "      <td>1.000000</td>\n",
       "      <td>1.0</td>\n",
       "    </tr>\n",
       "    <tr>\n",
       "      <th>max</th>\n",
       "      <td>8.254280e+07</td>\n",
       "      <td>5.000000</td>\n",
       "      <td>2.000000</td>\n",
       "      <td>7.000000</td>\n",
       "      <td>2.000000</td>\n",
       "      <td>997.000000</td>\n",
       "      <td>3.000000</td>\n",
       "      <td>1.0</td>\n",
       "    </tr>\n",
       "  </tbody>\n",
       "</table>\n",
       "</div>"
      ],
      "text/plain": [
       "                uid            age         gender      education  \\\n",
       "count  2.000000e+05  200000.000000  200000.000000  200000.000000   \n",
       "mean   4.138054e+07       3.018010       1.314770       4.536405   \n",
       "std    2.384128e+07       1.517612       0.471371       2.441212   \n",
       "min    5.500000e+02       0.000000       0.000000       0.000000   \n",
       "25%    2.074605e+07       2.000000       1.000000       2.000000   \n",
       "50%    4.142476e+07       3.000000       1.000000       6.000000   \n",
       "75%    6.213399e+07       4.000000       2.000000       7.000000   \n",
       "max    8.254280e+07       5.000000       2.000000       7.000000   \n",
       "\n",
       "       consumptionAbility            LBS        carrier    house  \n",
       "count       200000.000000  199999.000000  200000.000000  36649.0  \n",
       "mean             0.957125     444.816319       1.095805      1.0  \n",
       "std              0.634144     285.168415       0.961302      0.0  \n",
       "min              0.000000       0.000000       0.000000      1.0  \n",
       "25%              1.000000     192.000000       0.000000      1.0  \n",
       "50%              1.000000     425.000000       1.000000      1.0  \n",
       "75%              1.000000     687.000000       1.000000      1.0  \n",
       "max              2.000000     997.000000       3.000000      1.0  "
      ]
     },
     "execution_count": 94,
     "metadata": {},
     "output_type": "execute_result"
    }
   ],
   "source": [
    "user_features_des"
   ]
  },
  {
   "cell_type": "code",
   "execution_count": 95,
   "metadata": {
    "scrolled": true
   },
   "outputs": [
    {
     "data": {
      "text/plain": [
       "<matplotlib.axes._subplots.AxesSubplot at 0x210b68fbeb8>"
      ]
     },
     "execution_count": 95,
     "metadata": {},
     "output_type": "execute_result"
    },
    {
     "data": {
      "image/png": "[encoded data removed]",
      "text/plain": [
       "<matplotlib.figure.Figure at 0x210b68feb38>"
      ]
     },
     "metadata": {},
     "output_type": "display_data"
    }
   ],
   "source": [
    "user_features.age.plot()"
   ]
  }
 ],
 "metadata": {
  "kernelspec": {
   "display_name": "Python 3",
   "language": "python",
   "name": "python3"
  },
  "language_info": {
   "codemirror_mode": {
    "name": "ipython",
    "version": 3
   },
   "file_extension": ".py",
   "mimetype": "text/x-python",
   "name": "python",
   "nbconvert_exporter": "python",
   "pygments_lexer": "ipython3",
   "version": "3.6.4"
  }
 },
 "nbformat": 4,
 "nbformat_minor": 2
}
