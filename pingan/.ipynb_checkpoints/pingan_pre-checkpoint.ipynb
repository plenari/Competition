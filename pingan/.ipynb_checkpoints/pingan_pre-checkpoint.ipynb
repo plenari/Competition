{
 "cells": [
  {
   "cell_type": "markdown",
   "metadata": {},
   "source": [
    "### 2018 平安车险"
   ]
  },
  {
   "cell_type": "code",
   "execution_count": 1,
   "metadata": {},
   "outputs": [],
   "source": [
    "import pandas as pd\n",
    "import numpy as np\n",
    "import multiprocessing\n",
    "import gc\n",
    "import matplotlib.pyplot as plt\n",
    "import seaborn as sns\n",
    "from sklearn import preprocessing\n",
    "import datetime\n",
    "%matplotlib inline\n",
    "from math import radians, cos, sin, asin, sqrt\n",
    "from collections import Counter \n",
    "f=r'data/dm/train.csv'\n",
    "train=pd.read_csv(f)"
   ]
  },
  {
   "cell_type": "code",
   "execution_count": 2,
   "metadata": {
    "scrolled": false
   },
   "outputs": [
    {
     "data": {
      "text/html": [
       "<div>\n",
       "<style scoped>\n",
       "    .dataframe tbody tr th:only-of-type {\n",
       "        vertical-align: middle;\n",
       "    }\n",
       "\n",
       "    .dataframe tbody tr th {\n",
       "        vertical-align: top;\n",
       "    }\n",
       "\n",
       "    .dataframe thead th {\n",
       "        text-align: right;\n",
       "    }\n",
       "</style>\n",
       "<table border=\"1\" class=\"dataframe\">\n",
       "  <thead>\n",
       "    <tr style=\"text-align: right;\">\n",
       "      <th></th>\n",
       "      <th>TERMINALNO</th>\n",
       "      <th>TIME</th>\n",
       "      <th>TRIP_ID</th>\n",
       "      <th>LONGITUDE</th>\n",
       "      <th>LATITUDE</th>\n",
       "      <th>DIRECTION</th>\n",
       "      <th>HEIGHT</th>\n",
       "      <th>SPEED</th>\n",
       "      <th>CALLSTATE</th>\n",
       "      <th>Y</th>\n",
       "    </tr>\n",
       "  </thead>\n",
       "  <tbody>\n",
       "    <tr>\n",
       "      <th>0</th>\n",
       "      <td>1</td>\n",
       "      <td>1476923580</td>\n",
       "      <td>1</td>\n",
       "      <td>122.985168</td>\n",
       "      <td>41.103741</td>\n",
       "      <td>12</td>\n",
       "      <td>39.402588</td>\n",
       "      <td>2.15</td>\n",
       "      <td>0</td>\n",
       "      <td>0.0</td>\n",
       "    </tr>\n",
       "    <tr>\n",
       "      <th>1</th>\n",
       "      <td>1</td>\n",
       "      <td>1476923640</td>\n",
       "      <td>1</td>\n",
       "      <td>122.984398</td>\n",
       "      <td>41.104904</td>\n",
       "      <td>24</td>\n",
       "      <td>39.311157</td>\n",
       "      <td>4.11</td>\n",
       "      <td>0</td>\n",
       "      <td>0.0</td>\n",
       "    </tr>\n",
       "    <tr>\n",
       "      <th>2</th>\n",
       "      <td>1</td>\n",
       "      <td>1476923700</td>\n",
       "      <td>1</td>\n",
       "      <td>122.986496</td>\n",
       "      <td>41.106388</td>\n",
       "      <td>74</td>\n",
       "      <td>34.178955</td>\n",
       "      <td>2.99</td>\n",
       "      <td>0</td>\n",
       "      <td>0.0</td>\n",
       "    </tr>\n",
       "    <tr>\n",
       "      <th>3</th>\n",
       "      <td>1</td>\n",
       "      <td>1476923760</td>\n",
       "      <td>1</td>\n",
       "      <td>122.989769</td>\n",
       "      <td>41.106884</td>\n",
       "      <td>115</td>\n",
       "      <td>37.765381</td>\n",
       "      <td>7.59</td>\n",
       "      <td>0</td>\n",
       "      <td>0.0</td>\n",
       "    </tr>\n",
       "    <tr>\n",
       "      <th>4</th>\n",
       "      <td>1</td>\n",
       "      <td>1476923820</td>\n",
       "      <td>1</td>\n",
       "      <td>122.991089</td>\n",
       "      <td>41.105442</td>\n",
       "      <td>151</td>\n",
       "      <td>36.049194</td>\n",
       "      <td>0.24</td>\n",
       "      <td>0</td>\n",
       "      <td>0.0</td>\n",
       "    </tr>\n",
       "  </tbody>\n",
       "</table>\n",
       "</div>"
      ],
      "text/plain": [
       "   TERMINALNO        TIME  TRIP_ID   LONGITUDE   LATITUDE  DIRECTION  \\\n",
       "0           1  1476923580        1  122.985168  41.103741         12   \n",
       "1           1  1476923640        1  122.984398  41.104904         24   \n",
       "2           1  1476923700        1  122.986496  41.106388         74   \n",
       "3           1  1476923760        1  122.989769  41.106884        115   \n",
       "4           1  1476923820        1  122.991089  41.105442        151   \n",
       "\n",
       "      HEIGHT  SPEED  CALLSTATE    Y  \n",
       "0  39.402588   2.15          0  0.0  \n",
       "1  39.311157   4.11          0  0.0  \n",
       "2  34.178955   2.99          0  0.0  \n",
       "3  37.765381   7.59          0  0.0  \n",
       "4  36.049194   0.24          0  0.0  "
      ]
     },
     "execution_count": 2,
     "metadata": {},
     "output_type": "execute_result"
    }
   ],
   "source": [
    "train.head()"
   ]
  },
  {
   "cell_type": "markdown",
   "metadata": {},
   "source": [
    "   用户id：用户唯一标志。\n",
    "\n",
    "      unix时间戳：从1970年1月1日（UTC/GMT的午夜）开始所经过的秒数\n",
    "\n",
    "      行程id：用户行程唯一标志。\n",
    "\n",
    "      经度：用户行程目前所在经度。\n",
    "\n",
    "      纬度：用户行程目前所在维度。\n",
    "\n",
    "      方向(角度)：用户行程目前对应方向，正北为0，顺时针方向计算角度（如正东为90、正南为180），负值代表此时方向不可判断。\n",
    "\n",
    "      海拔(m)：用户行程目前所处的海拔高度。\n",
    "\n",
    "      速度(km/h)：用户行程目前的速度。\n",
    "\n",
    "      电话状态：用户行程目前的通话状态。（0,未知 1,呼出 2,呼入 3,连通 4,断连）\n",
    "\n",
    "      客户赔付率：客户赔付情况，为本次建模的目标Y值。（test中不含此字段）"
   ]
  },
  {
   "cell_type": "markdown",
   "metadata": {},
   "source": [
    "* 每个用户一个id，每分钟一组数据\n",
    "* 一个用户多个行程结合，产生赔付行为\n",
    "* 同一个用户内时间有最近及远的方式排列，然后每次行程都是开始然后结束\n",
    "* 有些行程只有1分钟，还有一些只有几分钟\n",
    "* 既然是概率，那么我也应该算概率\n",
    "* 行程结束的时间，星期，是否高峰期，以及国庆，是否周末的概率\n",
    "* \n",
    "\n",
    "* 经纬度可以对纬度是否可以聚类？计算每次行程的距离，然后求平均？"
   ]
  },
  {
   "cell_type": "markdown",
   "metadata": {},
   "source": [
    "#### 先对每一个userid遍历，然后对每一个user如下处理\n",
    "* 先把时间换成需要的样子\n",
    "* 然后对每一个userID内的trip id 处理\n",
    "* 计算每次行程的平均移动距离\n",
    "* 计算所有行程的时间分布\n",
    "* 计算行程结束时 在早高峰，晚高峰，中高峰，周一到周五的概率，周末的概率\n",
    "* "
   ]
  },
  {
   "cell_type": "markdown",
   "metadata": {},
   "source": [
    "## 对其中-1 的处理\n",
    "* 暂时不知道如何处理"
   ]
  },
  {
   "cell_type": "code",
   "execution_count": 157,
   "metadata": {},
   "outputs": [
    {
     "name": "stderr",
     "output_type": "stream",
     "text": [
      "F:\\app\\anaconda\\lib\\site-packages\\pandas\\core\\computation\\expressions.py:179: UserWarning: evaluating in Python space because the '*' operator is not supported by numexpr for the bool dtype, use '&' instead\n",
      "  .format(op=op_str, alt_op=unsupported[op_str]))\n"
     ]
    },
    {
     "data": {
      "text/plain": [
       "0.16833524623219426"
      ]
     },
     "execution_count": 157,
     "metadata": {},
     "output_type": "execute_result"
    }
   ],
   "source": [
    "train[(train.SPEED<3)*(train.SPEED>-1)].Y.mean()"
   ]
  },
  {
   "cell_type": "markdown",
   "metadata": {},
   "source": [
    "## 1. 加速度"
   ]
  },
  {
   "cell_type": "code",
   "execution_count": null,
   "metadata": {},
   "outputs": [],
   "source": []
  },
  {
   "cell_type": "code",
   "execution_count": 173,
   "metadata": {
    "collapsed": true
   },
   "outputs": [
    {
     "data": {
      "text/plain": [
       "TERMINALNO  TRIP_ID\n",
       "1           1                          [7.35]\n",
       "            2                              []\n",
       "            3                          [2.83]\n",
       "            4                         [-0.75]\n",
       "            5                         [-1.23]\n",
       "            6           [-0.6699999999999999]\n",
       "            7                         [-3.59]\n",
       "            8                          [1.71]\n",
       "            9                          [8.43]\n",
       "            10                         [4.32]\n",
       "            11                        [-3.17]\n",
       "            12                         [7.34]\n",
       "            13                         [1.63]\n",
       "            14                         [7.33]\n",
       "            15          [-1.4300000000000006]\n",
       "            16                        [-8.48]\n",
       "            17          [0.46999999999999886]\n",
       "            18                        [-0.89]\n",
       "            19            [2.369999999999999]\n",
       "            20            [3.080001000000003]\n",
       "            21          [-0.8999999999999986]\n",
       "            22          [0.34999799999999937]\n",
       "            23                     [5.950001]\n",
       "            24          [-1.1000000000000014]\n",
       "            25          [0.11000000000000654]\n",
       "            26                         [5.32]\n",
       "            27         [-0.20000000000000284]\n",
       "            28                             []\n",
       "            29           [0.2599999999999998]\n",
       "            30           [-9.360000000000001]\n",
       "                                ...          \n",
       "100         56                       [-14.87]\n",
       "            57                             []\n",
       "            58           [12.149998999999998]\n",
       "            59           [-9.530000000000001]\n",
       "            60                        [-14.7]\n",
       "            61                         [4.83]\n",
       "            62          [-3.5700000000000003]\n",
       "            63                             []\n",
       "            64                        [-9.84]\n",
       "            65                             []\n",
       "            66            [5.049999999999999]\n",
       "            67                        [13.08]\n",
       "            68                             []\n",
       "            69           [2.4800000000000004]\n",
       "            70                         [1.96]\n",
       "            71           [1.0999999999999996]\n",
       "            72                         [1.77]\n",
       "            73                             []\n",
       "            74           [0.7699999999999996]\n",
       "            75           [-0.379999999999999]\n",
       "            76                    [-3.959999]\n",
       "            77         [-0.48999699999999535]\n",
       "            78                             []\n",
       "            79                        [-6.21]\n",
       "            80          [-1.2799999999999998]\n",
       "            81                         [9.35]\n",
       "            82                        [-4.57]\n",
       "            83            [7.609999999999999]\n",
       "            84                         [15.8]\n",
       "            85           [1.8399999999999999]\n",
       "Length: 6370, dtype: object"
      ]
     },
     "execution_count": 173,
     "metadata": {},
     "output_type": "execute_result"
    }
   ],
   "source": [
    "train.groupby(['TERMINALNO','TRIP_ID']).apply(lambda x:-np.diff(x.SPEED.values[-2:]))"
   ]
  },
  {
   "cell_type": "markdown",
   "metadata": {},
   "source": [
    "## 1. 经纬度\n",
    "* 计算每次行程的平均移动距离\n"
   ]
  },
  {
   "cell_type": "code",
   "execution_count": 143,
   "metadata": {},
   "outputs": [],
   "source": [
    "def haversine(lon1, lat1, lon2, lat2):  # 经度1，纬度1，经度2，纬度2 （十进制度数）\n",
    "    \"\"\"\n",
    "    Calculate the great circle distance between two points\n",
    "    on the earth (specified in decimal degrees)\n",
    "    return    float\n",
    "    \n",
    "    \"\"\"\n",
    "    # 将十进制度数转化为弧度\n",
    "    lon1, lat1, lon2, lat2 = map(radians, [lon1, lat1, lon2, lat2])\n",
    "    # haversine公式\n",
    "    dlon = lon2 - lon1\n",
    "    dlat = lat2 - lat1\n",
    "    a = sin(dlat / 2) ** 2 + cos(lat1) * cos(lat2) * sin(dlon / 2) ** 2\n",
    "    c = 2 * asin(sqrt(a))\n",
    "    r = 6371  # 地球平均半径，单位为公里\n",
    "    return c * r * 1000"
   ]
  },
  {
   "cell_type": "raw",
   "metadata": {},
   "source": [
    "def distance(startx,starty,endx,endy):\n",
    "    '''\n",
    "    计算两点之间的位移，只是通过维度，简单一些\n",
    "    return float\n",
    "    distance\n",
    "    '''\n",
    "    return np.sqrt((startx-endx)**2+(starty-endy)**2)"
   ]
  },
  {
   "cell_type": "markdown",
   "metadata": {},
   "source": [
    "## 2. 行程id\n",
    "* 然后对每一个userID内的trip id 处理\n",
    "* 计算行程结束时 在早高峰，晚高峰，中高峰，周一到周五的概率，周末的概率"
   ]
  },
  {
   "cell_type": "code",
   "execution_count": 190,
   "metadata": {},
   "outputs": [],
   "source": [
    "#通过行程进行分组，然后计算每次行程的运行距离，时间，在早中晚高峰的情况\n",
    "def Trip_id(user):\n",
    "    '''    \n",
    "    输入一个user的数据包含DataFrame()    \n",
    "    \n",
    "    包含：TIME,hour\n",
    "    返回这个用户在移动距离的平均值    \n",
    "    return list\n",
    "    ['distance','sm30','sm60','sm120','sm240','bt240','dayofweek','isweekday','morning','afternoon','noon','nightdriver']\n",
    "    '''\n",
    "    name=['distance_mean','distance_std','acceleration_mean','acceleration_std','city_in','sm30','sm60','sm120','sm240','bt240','dayofweek','isweekday',\n",
    "          'morning','afternoon','noon','nightdriver']\n",
    "    #保存最终结果。\n",
    "    result_=[]\n",
    "    user_g=user.groupby('TRIP_ID')\n",
    "    #分组计算平均移动距离,所在城市的众数\n",
    "    city_trip_end=[]\n",
    "    distance_=[]\n",
    "    acceleration_=[]\n",
    "    for i,trip in user_g:\n",
    "        '''按照tripid分组的数据 '''\n",
    "        #获得行程开始结束的经纬度\n",
    "        lon1,lon2= trip['LONGITUDE'].iloc[[0,-1]]\n",
    "        lat1,lat2=trip['LATITUDE'].iloc[[0,-1]]\n",
    "        #预测最后行程最后结束时，所在的城市。\n",
    "        city_trip_end.append(knn.predict(np.array([lon2,lat2]).reshape(-1,2))[0])\n",
    "        #计算移动距离\n",
    "        res_i=haversine(lon1, lat1, lon2, lat2)\n",
    "        distance_.append(res_i)\n",
    "        \n",
    "        #计算加速度\n",
    "        speed_=trip.SPEED.values[-2:]\n",
    "        if speed_.size>1:\n",
    "            acceleration_.append(speed_[-1]-speed_[-2])\n",
    "        \n",
    "    #添加平均移动距离到结果\n",
    "    result_.extend([np.mean(distance_),np.std(distance_)])\n",
    "    #加速度\n",
    "    result_.extend([np.mean(acceleration_),np.std(acceleration_)])\n",
    "    \n",
    "    #所在城市的众数\n",
    "    result_.append(pd.Series(city_trip_end).mode().loc[0])\n",
    "    \n",
    "    \n",
    "    #开车时长，简单用计数处理,分钟处理,分别为半个小时，一个小时，两个小时，4个小时的概率\n",
    "    \n",
    "    drive_last_time=user_g.hour.count()\n",
    "    clas_=[30,60,120,240]\n",
    "    clas_time_last=np.searchsorted(clas_,drive_last_time)\n",
    "    lenofdata=clas_time_last.size\n",
    "    count=Counter(clas_time_last)\n",
    "    for i in range(len(clas_)+1):\n",
    "        #连续驾驶时长段，所占的概率\n",
    "        result_.append(count[i]/lenofdata)        \n",
    "        \n",
    "    #分组计算行程终止时星期几，以及周末的概率\n",
    "    user_trip_tail=user_g.apply(lambda x:x.tail(1))   \n",
    "    user_trip_tail['dayofweek']=user_trip_tail.TIME.apply(lambda x:x.dayofweek)\n",
    "    user_trip_tail['isweekend']=user_trip_tail.dayofweek.apply(lambda x:1 if x  in [5,6] else 0)\n",
    "    #-------早晚中高峰\n",
    "    user_trip_tail['morning']=user_trip_tail.hour.apply(lambda x: 1 if x in [7,8,9] else 0)\n",
    "    user_trip_tail['afternoon']=user_trip_tail.hour.apply(lambda x: 1 if x in [17,18,19] else 0)\n",
    "    user_trip_tail['noon']=user_trip_tail.hour.apply(lambda x: 1 if x in [11,12,13] else 0)\n",
    "    time_=user_trip_tail[['dayofweek','isweekend','morning','afternoon','noon']].mean()\n",
    "    \n",
    "    #---save data\n",
    "    result_.extend(time_)\n",
    "    #day or night白天还是晚上开车的概率，白天为1\n",
    "    night_driver_car=user.hour.apply(lambda x :x<7 and x>19).mean()\n",
    "    #'distance','sm30','sm60','sm120','sm240','bt240','dayofweek','isweekend','morning','afternoon','noon','daydriver'\n",
    "    result_.append(night_driver_car)  \n",
    "    assert len(result_)==len(name) ,'长度不一样'\n",
    "    return result_ ,name"
   ]
  },
  {
   "cell_type": "code",
   "execution_count": 192,
   "metadata": {},
   "outputs": [
    {
     "data": {
      "text/plain": [
       "True"
      ]
     },
     "execution_count": 192,
     "metadata": {},
     "output_type": "execute_result"
    }
   ],
   "source": [
    "a,b=Trip_id(user)\n",
    "len(a)==len(b)"
   ]
  },
  {
   "cell_type": "code",
   "execution_count": 194,
   "metadata": {},
   "outputs": [
    {
     "data": {
      "text/plain": [
       "[3167.961692058657,\n",
       " 6047.5794116901925,\n",
       " -1.5149296056338029,\n",
       " 7.452763640127612,\n",
       " 87,\n",
       " 0.9176470588235294,\n",
       " 0.07058823529411765,\n",
       " 0.011764705882352941,\n",
       " 0.0,\n",
       " 0.0,\n",
       " 1.9176470588235295,\n",
       " 0.0,\n",
       " 0.24705882352941178,\n",
       " 0.10588235294117647,\n",
       " 0.3058823529411765,\n",
       " 0.0]"
      ]
     },
     "execution_count": 194,
     "metadata": {},
     "output_type": "execute_result"
    }
   ],
   "source": [
    "a"
   ]
  },
  {
   "cell_type": "code",
   "execution_count": 193,
   "metadata": {},
   "outputs": [
    {
     "data": {
      "text/plain": [
       "16"
      ]
     },
     "execution_count": 193,
     "metadata": {},
     "output_type": "execute_result"
    }
   ],
   "source": [
    "len(a)"
   ]
  },
  {
   "cell_type": "code",
   "execution_count": 189,
   "metadata": {},
   "outputs": [
    {
     "data": {
      "text/plain": [
       "16"
      ]
     },
     "execution_count": 189,
     "metadata": {},
     "output_type": "execute_result"
    }
   ],
   "source": [
    "len(b)"
   ]
  },
  {
   "cell_type": "markdown",
   "metadata": {},
   "source": [
    "## 3.时间，\n",
    "* 所有时间的分布"
   ]
  },
  {
   "cell_type": "code",
   "execution_count": 150,
   "metadata": {},
   "outputs": [],
   "source": [
    "def Hour_24(user):\n",
    "    '''\n",
    "    groupby_HOUR\n",
    "    输入单个用户的全部数据\n",
    "    计算单个用户的开车习惯分布\n",
    "    '''\n",
    "    name=['h0','h1','h2','h3','h4','h5','h6','h7','h8',\\\n",
    "          'h9','h10','h11','h12','h13','h14','h15','h16',\\\n",
    "          'h17','h18','h19','h20','h21','h22','h23']\n",
    "    hour24=pd.DataFrame(np.zeros(24),columns=['hour'])\n",
    "    time_last=user.hour.value_counts().sort_index()\n",
    "    res_=time_last/time_last.sum()\n",
    "    hour24.update(res_)\n",
    "    return list(hour24.hour),name"
   ]
  },
  {
   "cell_type": "code",
   "execution_count": 64,
   "metadata": {
    "collapsed": true
   },
   "outputs": [
    {
     "data": {
      "text/plain": [
       "['h0',\n",
       " 'h1',\n",
       " 'h2',\n",
       " 'h3',\n",
       " 'h4',\n",
       " 'h5',\n",
       " 'h6',\n",
       " 'h7',\n",
       " 'h8',\n",
       " 'h9',\n",
       " 'h10',\n",
       " 'h11',\n",
       " 'h12',\n",
       " 'h13',\n",
       " 'h14',\n",
       " 'h15',\n",
       " 'h16',\n",
       " 'h17',\n",
       " 'h18',\n",
       " 'h19',\n",
       " 'h20',\n",
       " 'h21',\n",
       " 'h22',\n",
       " 'h23']"
      ]
     },
     "execution_count": 64,
     "metadata": {},
     "output_type": "execute_result"
    }
   ],
   "source": [
    "Hour_24(user)[1]"
   ]
  },
  {
   "cell_type": "markdown",
   "metadata": {},
   "source": [
    "## 4.速度处理\n",
    "    ['mean' ,'std','max','spped_30_40']\n",
    "    2.计算速度在不同段之间的概率"
   ]
  },
  {
   "cell_type": "code",
   "execution_count": 65,
   "metadata": {
    "scrolled": true
   },
   "outputs": [
    {
     "data": {
      "text/plain": [
       "[<matplotlib.lines.Line2D at 0x24795a08860>]"
      ]
     },
     "execution_count": 65,
     "metadata": {},
     "output_type": "execute_result"
    },
    {
     "data": {
      "image/png": "[encoded data removed]",
      "text/plain": [
       "<matplotlib.figure.Figure at 0x24795e326a0>"
      ]
     },
     "metadata": {},
     "output_type": "display_data"
    }
   ],
   "source": [
    "clas_=np.arange(70)+1\n",
    "m=train.groupby(np.searchsorted(clas_,train.SPEED)).mean()\n",
    "plt.plot(m.Y,'*')"
   ]
  },
  {
   "cell_type": "code",
   "execution_count": 10,
   "metadata": {},
   "outputs": [
    {
     "data": {
      "text/html": [
       "<div>\n",
       "<style scoped>\n",
       "    .dataframe tbody tr th:only-of-type {\n",
       "        vertical-align: middle;\n",
       "    }\n",
       "\n",
       "    .dataframe tbody tr th {\n",
       "        vertical-align: top;\n",
       "    }\n",
       "\n",
       "    .dataframe thead th {\n",
       "        text-align: right;\n",
       "    }\n",
       "</style>\n",
       "<table border=\"1\" class=\"dataframe\">\n",
       "  <thead>\n",
       "    <tr style=\"text-align: right;\">\n",
       "      <th></th>\n",
       "      <th>TERMINALNO</th>\n",
       "      <th>TIME</th>\n",
       "      <th>TRIP_ID</th>\n",
       "      <th>LONGITUDE</th>\n",
       "      <th>LATITUDE</th>\n",
       "      <th>DIRECTION</th>\n",
       "      <th>HEIGHT</th>\n",
       "      <th>SPEED</th>\n",
       "      <th>CALLSTATE</th>\n",
       "      <th>Y</th>\n",
       "      <th>hour</th>\n",
       "    </tr>\n",
       "  </thead>\n",
       "  <tbody>\n",
       "    <tr>\n",
       "      <th>68481</th>\n",
       "      <td>100</td>\n",
       "      <td>2016-12-23 14:08:00</td>\n",
       "      <td>10</td>\n",
       "      <td>121.388641</td>\n",
       "      <td>37.543015</td>\n",
       "      <td>226</td>\n",
       "      <td>6.965271</td>\n",
       "      <td>0.64</td>\n",
       "      <td>4</td>\n",
       "      <td>0.0</td>\n",
       "      <td>14</td>\n",
       "    </tr>\n",
       "    <tr>\n",
       "      <th>68482</th>\n",
       "      <td>100</td>\n",
       "      <td>2016-12-23 14:09:00</td>\n",
       "      <td>10</td>\n",
       "      <td>121.388763</td>\n",
       "      <td>37.543037</td>\n",
       "      <td>-1</td>\n",
       "      <td>11.643005</td>\n",
       "      <td>-1.00</td>\n",
       "      <td>4</td>\n",
       "      <td>0.0</td>\n",
       "      <td>14</td>\n",
       "    </tr>\n",
       "    <tr>\n",
       "      <th>68483</th>\n",
       "      <td>100</td>\n",
       "      <td>2016-12-23 14:11:00</td>\n",
       "      <td>10</td>\n",
       "      <td>121.386078</td>\n",
       "      <td>37.542744</td>\n",
       "      <td>270</td>\n",
       "      <td>7.753662</td>\n",
       "      <td>4.74</td>\n",
       "      <td>4</td>\n",
       "      <td>0.0</td>\n",
       "      <td>14</td>\n",
       "    </tr>\n",
       "    <tr>\n",
       "      <th>68484</th>\n",
       "      <td>100</td>\n",
       "      <td>2016-12-23 14:12:00</td>\n",
       "      <td>10</td>\n",
       "      <td>121.381798</td>\n",
       "      <td>37.543770</td>\n",
       "      <td>290</td>\n",
       "      <td>17.852417</td>\n",
       "      <td>4.05</td>\n",
       "      <td>3</td>\n",
       "      <td>0.0</td>\n",
       "      <td>14</td>\n",
       "    </tr>\n",
       "  </tbody>\n",
       "</table>\n",
       "</div>"
      ],
      "text/plain": [
       "       TERMINALNO                TIME  TRIP_ID   LONGITUDE   LATITUDE  \\\n",
       "68481         100 2016-12-23 14:08:00       10  121.388641  37.543015   \n",
       "68482         100 2016-12-23 14:09:00       10  121.388763  37.543037   \n",
       "68483         100 2016-12-23 14:11:00       10  121.386078  37.542744   \n",
       "68484         100 2016-12-23 14:12:00       10  121.381798  37.543770   \n",
       "\n",
       "       DIRECTION     HEIGHT  SPEED  CALLSTATE    Y  hour  \n",
       "68481        226   6.965271   0.64          4  0.0    14  \n",
       "68482         -1  11.643005  -1.00          4  0.0    14  \n",
       "68483        270   7.753662   4.74          4  0.0    14  \n",
       "68484        290  17.852417   4.05          3  0.0    14  "
      ]
     },
     "execution_count": 10,
     "metadata": {},
     "output_type": "execute_result"
    }
   ],
   "source": [
    "user[user.TRIP_ID==10]"
   ]
  },
  {
   "cell_type": "code",
   "execution_count": 56,
   "metadata": {},
   "outputs": [],
   "source": [
    "def nc(flag,clas_,list_):\n",
    "    for i in clas_:        \n",
    "        list_.append('st-'+flag+str(i))\n",
    "    list_.append('bt-'+flag+str(i))\n",
    "    return list_"
   ]
  },
  {
   "cell_type": "code",
   "execution_count": 71,
   "metadata": {},
   "outputs": [],
   "source": [
    "def Speed(user):\n",
    "    '''\n",
    "    user dtype DataFrame \n",
    "    columns SPEED\n",
    "    \n",
    "    return :list\n",
    "    ['mean' ,'std','max',]\n",
    "    2.计算速度在cla_之间的概率\n",
    "    '''\n",
    "    name=['mean' ,'std','max']\n",
    "    s=user.SPEED   \n",
    "    clas_=[0,18,28,38,60,80,120]\n",
    "    speed=np.searchsorted(clas_,user.SPEED)\n",
    "    speed=after_searchsorted(speed,clas_)\n",
    "    name=nc('speed',clas_,name)\n",
    "    result=[s.mean(),s.std(),s.max()]\n",
    "    result.extend(speed)\n",
    "    return result,name"
   ]
  },
  {
   "cell_type": "code",
   "execution_count": 52,
   "metadata": {},
   "outputs": [],
   "source": [
    "def after_searchsorted(data,clas_):\n",
    "    '''\n",
    "    searchsorted 之后需要算各个类别的概率\n",
    "    所以用这个方便处理各个概率，\n",
    "    data:得到插入排名后的数据\n",
    "    clas_:类别， 因为数据可能不全，只能靠类别获得类别数\n",
    "    return: list\n",
    "    '''\n",
    "    res_=[]\n",
    "    lenofdata=len(data)\n",
    "    count=Counter(data)    \n",
    "    for i in range(len(clas_)+1):\n",
    "        res_.append(count[i]/lenofdata) \n",
    "    return res_"
   ]
  },
  {
   "cell_type": "code",
   "execution_count": 70,
   "metadata": {},
   "outputs": [
    {
     "data": {
      "text/plain": [
       "([7.573326041575481,\n",
       "  6.9103698732001755,\n",
       "  32.639998999999996,\n",
       "  0.21663019693654267,\n",
       "  0.7035010940919038,\n",
       "  0.07439824945295405,\n",
       "  0.005470459518599562,\n",
       "  0.0,\n",
       "  0.0,\n",
       "  0.0,\n",
       "  0.0],\n",
       " ['mean',\n",
       "  'std',\n",
       "  'max',\n",
       "  'st-speed0',\n",
       "  'st-speed18',\n",
       "  'st-speed28',\n",
       "  'st-speed38',\n",
       "  'st-speed60',\n",
       "  'st-speed80',\n",
       "  'st-speed120',\n",
       "  'bt-speed120'])"
      ]
     },
     "execution_count": 70,
     "metadata": {},
     "output_type": "execute_result"
    }
   ],
   "source": [
    "Speed(user)"
   ]
  },
  {
   "cell_type": "markdown",
   "metadata": {},
   "source": [
    "## 5.电话状态\n",
    "* 0 的概率极低，\n",
    "* 1,2,3都高\n",
    "* 4 较低\n",
    "* 分成0,1-3,4"
   ]
  },
  {
   "cell_type": "code",
   "execution_count": 79,
   "metadata": {},
   "outputs": [],
   "source": [
    "def Callstate(user):\n",
    "    '''\n",
    "    对于每个用户电话状态是1，2，3的概率\n",
    "    '''\n",
    "    name=[]\n",
    "    clas_=[0.5,1.5,2.5,3.5]\n",
    "    result=after_searchsorted(user.CALLSTATE,clas_)\n",
    "    name=nc('call',clas_,name)\n",
    "    return  result,name"
   ]
  },
  {
   "cell_type": "code",
   "execution_count": 80,
   "metadata": {},
   "outputs": [
    {
     "data": {
      "text/plain": [
       "([0.08971553610503283,\n",
       "  0.016411378555798686,\n",
       "  0.002188183807439825,\n",
       "  0.036105032822757115,\n",
       "  0.8555798687089715],\n",
       " ['st-call0.5', 'st-call1.5', 'st-call2.5', 'st-call3.5', 'bt-call3.5'])"
      ]
     },
     "execution_count": 80,
     "metadata": {},
     "output_type": "execute_result"
    }
   ],
   "source": [
    "Callstate(user)"
   ]
  },
  {
   "cell_type": "code",
   "execution_count": 81,
   "metadata": {
    "scrolled": false
   },
   "outputs": [
    {
     "data": {
      "text/plain": [
       "<matplotlib.axes._subplots.AxesSubplot at 0x24793934320>"
      ]
     },
     "execution_count": 81,
     "metadata": {},
     "output_type": "execute_result"
    },
    {
     "data": {
      "image/png": "[encoded data removed]",
      "text/plain": [
       "<matplotlib.figure.Figure at 0x2479615b160>"
      ]
     },
     "metadata": {},
     "output_type": "display_data"
    }
   ],
   "source": [
    "m=train.groupby('CALLSTATE').mean()\n",
    "sns.pointplot(m.index,m.Y)"
   ]
  },
  {
   "cell_type": "markdown",
   "metadata": {},
   "source": [
    "## 4. 增加城市\n",
    "统计每次行程结束时所在的城市，以众数为准"
   ]
  },
  {
   "cell_type": "code",
   "execution_count": 95,
   "metadata": {},
   "outputs": [
    {
     "data": {
      "text/plain": [
       "KNeighborsClassifier(algorithm='auto', leaf_size=30, metric='minkowski',\n",
       "           metric_params=None, n_jobs=1, n_neighbors=1, p=2,\n",
       "           weights='uniform')"
      ]
     },
     "execution_count": 95,
     "metadata": {},
     "output_type": "execute_result"
    }
   ],
   "source": [
    "from sklearn.neighbors import KNeighborsClassifier\n",
    "df=pd.read_csv('jing_wei.csv',index_col=0)\n",
    "knn=KNeighborsClassifier(n_neighbors=1)\n",
    "knn.fit(df[['j','w']].values,df.index.values)\n"
   ]
  },
  {
   "cell_type": "code",
   "execution_count": 104,
   "metadata": {
    "scrolled": true
   },
   "outputs": [],
   "source": [
    "rs=knn.predict(user[['LONGITUDE','LATITUDE']].values)"
   ]
  },
  {
   "cell_type": "code",
   "execution_count": 119,
   "metadata": {},
   "outputs": [
    {
     "data": {
      "text/plain": [
       "c        大连\n",
       "j    121.38\n",
       "w     38.54\n",
       "Name: 60, dtype: object"
      ]
     },
     "execution_count": 119,
     "metadata": {},
     "output_type": "execute_result"
    }
   ],
   "source": [
    "df.loc[60]"
   ]
  },
  {
   "cell_type": "markdown",
   "metadata": {},
   "source": [
    "## 5.数据汇总"
   ]
  },
  {
   "cell_type": "code",
   "execution_count": 3,
   "metadata": {},
   "outputs": [],
   "source": [
    "train['TIME']=train.TIME.apply(lambda x:datetime.datetime.fromtimestamp(x))"
   ]
  },
  {
   "cell_type": "markdown",
   "metadata": {},
   "source": [
    "* 所有列表的名称"
   ]
  },
  {
   "cell_type": "code",
   "execution_count": 154,
   "metadata": {},
   "outputs": [],
   "source": [
    "pd.options.mode.chained_assignment = None"
   ]
  },
  {
   "cell_type": "code",
   "execution_count": 156,
   "metadata": {
    "scrolled": true
   },
   "outputs": [],
   "source": [
    "#nothing only get one \n",
    "for i,user in train.groupby('TERMINALNO'):\n",
    "    user['hour']=user.TIME.apply(lambda x:x.hour)\n",
    "    pass"
   ]
  },
  {
   "cell_type": "code",
   "execution_count": null,
   "metadata": {},
   "outputs": [],
   "source": []
  },
  {
   "cell_type": "code",
   "execution_count": 42,
   "metadata": {
    "scrolled": true
   },
   "outputs": [
    {
     "name": "stderr",
     "output_type": "stream",
     "text": [
      "F:\\app\\anaconda\\lib\\site-packages\\ipykernel_launcher.py:7: SettingWithCopyWarning: \n",
      "A value is trying to be set on a copy of a slice from a DataFrame.\n",
      "Try using .loc[row_indexer,col_indexer] = value instead\n",
      "\n",
      "See the caveats in the documentation: http://pandas.pydata.org/pandas-docs/stable/indexing.html#indexing-view-versus-copy\n",
      "  import sys\n"
     ]
    }
   ],
   "source": [
    "##train\n",
    "N_train=[]\n",
    "columns=[]\n",
    "for i,user in train.groupby('TERMINALNO'): \n",
    "    user_data=[]\n",
    "    user_data.append(user.Y.iloc[0])\n",
    "    user['hour']=user.TIME.apply(lambda x:x.hour)\n",
    "    #* 计算所有行程的时间分布\n",
    "    hour_24=Hour_24(user)\n",
    "    user_data.extend(hour_24[0])\n",
    "    #* 计算每次行程的平均移动距离\n",
    "    trip_id=Trip_id(user)\n",
    "    user_data.extend(trip_id[0])\n",
    "    #SPEED\n",
    "    speed=Speed(user)\n",
    "    user_data.extend(speed[0])\n",
    "    #电话状态\n",
    "    callstate=Callstate(user)\n",
    "    user_data.extend(callstate[0])\n",
    "    #方向\n",
    "    direction=Direction(user)\n",
    "    user_data.extend(direction[0])\n",
    "    if i==1:\n",
    "        columns.append('Y')\n",
    "        columns.extend(hour_24[1])\n",
    "        columns.extend(trip_id[1])\n",
    "        columns.extend(speed[1])\n",
    "        columns.extend(callstate[1])\n",
    "        columns.extend(direction[1])        \n",
    "    N_train.append(user_data)\n",
    "    \n",
    "        "
   ]
  },
  {
   "cell_type": "code",
   "execution_count": 43,
   "metadata": {
    "scrolled": true
   },
   "outputs": [
    {
     "data": {
      "text/html": [
       "<div>\n",
       "<style scoped>\n",
       "    .dataframe tbody tr th:only-of-type {\n",
       "        vertical-align: middle;\n",
       "    }\n",
       "\n",
       "    .dataframe tbody tr th {\n",
       "        vertical-align: top;\n",
       "    }\n",
       "\n",
       "    .dataframe thead th {\n",
       "        text-align: right;\n",
       "    }\n",
       "</style>\n",
       "<table border=\"1\" class=\"dataframe\">\n",
       "  <thead>\n",
       "    <tr style=\"text-align: right;\">\n",
       "      <th></th>\n",
       "      <th>Y</th>\n",
       "      <th>h0</th>\n",
       "      <th>h1</th>\n",
       "      <th>h2</th>\n",
       "      <th>h3</th>\n",
       "      <th>h4</th>\n",
       "      <th>h5</th>\n",
       "      <th>h6</th>\n",
       "      <th>h7</th>\n",
       "      <th>h8</th>\n",
       "      <th>...</th>\n",
       "      <th>morning</th>\n",
       "      <th>afternoon</th>\n",
       "      <th>noon</th>\n",
       "      <th>nightdriver</th>\n",
       "      <th>mean</th>\n",
       "      <th>std</th>\n",
       "      <th>max</th>\n",
       "      <th>spped_30_40</th>\n",
       "      <th>call</th>\n",
       "      <th>direction</th>\n",
       "    </tr>\n",
       "  </thead>\n",
       "  <tbody>\n",
       "    <tr>\n",
       "      <th>0</th>\n",
       "      <td>0.0</td>\n",
       "      <td>0.139456</td>\n",
       "      <td>0.010204</td>\n",
       "      <td>0.0</td>\n",
       "      <td>0.0</td>\n",
       "      <td>0.0</td>\n",
       "      <td>0.0</td>\n",
       "      <td>0.0</td>\n",
       "      <td>0.000000</td>\n",
       "      <td>0.034014</td>\n",
       "      <td>...</td>\n",
       "      <td>0.044444</td>\n",
       "      <td>0.200000</td>\n",
       "      <td>0.088889</td>\n",
       "      <td>0.0</td>\n",
       "      <td>17.489840</td>\n",
       "      <td>11.759998</td>\n",
       "      <td>32.779999</td>\n",
       "      <td>0.272109</td>\n",
       "      <td>0.003401</td>\n",
       "      <td>0.000000</td>\n",
       "    </tr>\n",
       "    <tr>\n",
       "      <th>1</th>\n",
       "      <td>0.0</td>\n",
       "      <td>0.126374</td>\n",
       "      <td>0.076923</td>\n",
       "      <td>0.0</td>\n",
       "      <td>0.0</td>\n",
       "      <td>0.0</td>\n",
       "      <td>0.0</td>\n",
       "      <td>0.0</td>\n",
       "      <td>0.000000</td>\n",
       "      <td>0.000000</td>\n",
       "      <td>...</td>\n",
       "      <td>0.000000</td>\n",
       "      <td>0.181818</td>\n",
       "      <td>0.363636</td>\n",
       "      <td>0.0</td>\n",
       "      <td>9.287734</td>\n",
       "      <td>12.378971</td>\n",
       "      <td>36.119999</td>\n",
       "      <td>0.131868</td>\n",
       "      <td>0.038462</td>\n",
       "      <td>0.020604</td>\n",
       "    </tr>\n",
       "    <tr>\n",
       "      <th>2</th>\n",
       "      <td>0.0</td>\n",
       "      <td>0.000000</td>\n",
       "      <td>0.000000</td>\n",
       "      <td>0.0</td>\n",
       "      <td>0.0</td>\n",
       "      <td>0.0</td>\n",
       "      <td>0.0</td>\n",
       "      <td>0.0</td>\n",
       "      <td>0.240914</td>\n",
       "      <td>0.330218</td>\n",
       "      <td>...</td>\n",
       "      <td>0.675676</td>\n",
       "      <td>0.189189</td>\n",
       "      <td>0.054054</td>\n",
       "      <td>0.0</td>\n",
       "      <td>7.987331</td>\n",
       "      <td>6.135286</td>\n",
       "      <td>25.440001</td>\n",
       "      <td>0.000000</td>\n",
       "      <td>0.001038</td>\n",
       "      <td>0.030114</td>\n",
       "    </tr>\n",
       "    <tr>\n",
       "      <th>3</th>\n",
       "      <td>0.0</td>\n",
       "      <td>0.000000</td>\n",
       "      <td>0.000000</td>\n",
       "      <td>0.0</td>\n",
       "      <td>0.0</td>\n",
       "      <td>0.0</td>\n",
       "      <td>0.0</td>\n",
       "      <td>0.0</td>\n",
       "      <td>0.029040</td>\n",
       "      <td>0.023990</td>\n",
       "      <td>...</td>\n",
       "      <td>0.142857</td>\n",
       "      <td>0.255102</td>\n",
       "      <td>0.295918</td>\n",
       "      <td>0.0</td>\n",
       "      <td>6.312753</td>\n",
       "      <td>6.287498</td>\n",
       "      <td>33.310001</td>\n",
       "      <td>0.010101</td>\n",
       "      <td>0.020202</td>\n",
       "      <td>0.051768</td>\n",
       "    </tr>\n",
       "    <tr>\n",
       "      <th>4</th>\n",
       "      <td>0.0</td>\n",
       "      <td>0.000000</td>\n",
       "      <td>0.000000</td>\n",
       "      <td>0.0</td>\n",
       "      <td>0.0</td>\n",
       "      <td>0.0</td>\n",
       "      <td>0.0</td>\n",
       "      <td>0.0</td>\n",
       "      <td>0.086379</td>\n",
       "      <td>0.052049</td>\n",
       "      <td>...</td>\n",
       "      <td>0.164706</td>\n",
       "      <td>0.164706</td>\n",
       "      <td>0.235294</td>\n",
       "      <td>0.0</td>\n",
       "      <td>7.695846</td>\n",
       "      <td>8.218610</td>\n",
       "      <td>53.480000</td>\n",
       "      <td>0.006645</td>\n",
       "      <td>0.000000</td>\n",
       "      <td>0.007752</td>\n",
       "    </tr>\n",
       "  </tbody>\n",
       "</table>\n",
       "<p>5 rows × 43 columns</p>\n",
       "</div>"
      ],
      "text/plain": [
       "     Y        h0        h1   h2   h3   h4   h5   h6        h7        h8  \\\n",
       "0  0.0  0.139456  0.010204  0.0  0.0  0.0  0.0  0.0  0.000000  0.034014   \n",
       "1  0.0  0.126374  0.076923  0.0  0.0  0.0  0.0  0.0  0.000000  0.000000   \n",
       "2  0.0  0.000000  0.000000  0.0  0.0  0.0  0.0  0.0  0.240914  0.330218   \n",
       "3  0.0  0.000000  0.000000  0.0  0.0  0.0  0.0  0.0  0.029040  0.023990   \n",
       "4  0.0  0.000000  0.000000  0.0  0.0  0.0  0.0  0.0  0.086379  0.052049   \n",
       "\n",
       "     ...       morning  afternoon      noon  nightdriver       mean  \\\n",
       "0    ...      0.044444   0.200000  0.088889          0.0  17.489840   \n",
       "1    ...      0.000000   0.181818  0.363636          0.0   9.287734   \n",
       "2    ...      0.675676   0.189189  0.054054          0.0   7.987331   \n",
       "3    ...      0.142857   0.255102  0.295918          0.0   6.312753   \n",
       "4    ...      0.164706   0.164706  0.235294          0.0   7.695846   \n",
       "\n",
       "         std        max  spped_30_40      call  direction  \n",
       "0  11.759998  32.779999     0.272109  0.003401   0.000000  \n",
       "1  12.378971  36.119999     0.131868  0.038462   0.020604  \n",
       "2   6.135286  25.440001     0.000000  0.001038   0.030114  \n",
       "3   6.287498  33.310001     0.010101  0.020202   0.051768  \n",
       "4   8.218610  53.480000     0.006645  0.000000   0.007752  \n",
       "\n",
       "[5 rows x 43 columns]"
      ]
     },
     "execution_count": 43,
     "metadata": {},
     "output_type": "execute_result"
    }
   ],
   "source": [
    "f=pd.DataFrame(N_train,columns=columns)\n",
    "f.head()"
   ]
  },
  {
   "cell_type": "code",
   "execution_count": 50,
   "metadata": {
    "scrolled": true
   },
   "outputs": [
    {
     "data": {
      "image/png": "[encoded data removed]",
      "text/plain": [
       "<matplotlib.figure.Figure at 0x1e4899c7f60>"
      ]
     },
     "metadata": {},
     "output_type": "display_data"
    }
   ],
   "source": [
    "plt.figure(figsize=(12,8))\n",
    "plt.plot(f.corr().Y[1:],'*')\n",
    "plt.show()"
   ]
  },
  {
   "cell_type": "markdown",
   "metadata": {},
   "source": [
    "### 3. 三因素分析\n"
   ]
  },
  {
   "cell_type": "code",
   "execution_count": 56,
   "metadata": {},
   "outputs": [
    {
     "data": {
      "text/html": [
       "<div>\n",
       "<style scoped>\n",
       "    .dataframe tbody tr th:only-of-type {\n",
       "        vertical-align: middle;\n",
       "    }\n",
       "\n",
       "    .dataframe tbody tr th {\n",
       "        vertical-align: top;\n",
       "    }\n",
       "\n",
       "    .dataframe thead th {\n",
       "        text-align: right;\n",
       "    }\n",
       "</style>\n",
       "<table border=\"1\" class=\"dataframe\">\n",
       "  <thead>\n",
       "    <tr style=\"text-align: right;\">\n",
       "      <th></th>\n",
       "      <th>Y</th>\n",
       "      <th>h0</th>\n",
       "      <th>h1</th>\n",
       "      <th>h2</th>\n",
       "      <th>h3</th>\n",
       "      <th>h4</th>\n",
       "      <th>h5</th>\n",
       "      <th>h6</th>\n",
       "      <th>h7</th>\n",
       "      <th>h8</th>\n",
       "      <th>...</th>\n",
       "      <th>morning</th>\n",
       "      <th>afternoon</th>\n",
       "      <th>noon</th>\n",
       "      <th>nightdriver</th>\n",
       "      <th>mean</th>\n",
       "      <th>std</th>\n",
       "      <th>max</th>\n",
       "      <th>spped_30_40</th>\n",
       "      <th>call</th>\n",
       "      <th>direction</th>\n",
       "    </tr>\n",
       "  </thead>\n",
       "  <tbody>\n",
       "    <tr>\n",
       "      <th>count</th>\n",
       "      <td>100.000000</td>\n",
       "      <td>100.000000</td>\n",
       "      <td>100.000000</td>\n",
       "      <td>100.000000</td>\n",
       "      <td>100.000000</td>\n",
       "      <td>100.000000</td>\n",
       "      <td>100.000000</td>\n",
       "      <td>100.000000</td>\n",
       "      <td>100.000000</td>\n",
       "      <td>100.000000</td>\n",
       "      <td>...</td>\n",
       "      <td>100.000000</td>\n",
       "      <td>100.000000</td>\n",
       "      <td>100.000000</td>\n",
       "      <td>100.0</td>\n",
       "      <td>100.000000</td>\n",
       "      <td>100.000000</td>\n",
       "      <td>100.000000</td>\n",
       "      <td>100.000000</td>\n",
       "      <td>100.000000</td>\n",
       "      <td>100.000000</td>\n",
       "    </tr>\n",
       "    <tr>\n",
       "      <th>mean</th>\n",
       "      <td>0.310571</td>\n",
       "      <td>0.006241</td>\n",
       "      <td>0.004427</td>\n",
       "      <td>0.001770</td>\n",
       "      <td>0.002652</td>\n",
       "      <td>0.006450</td>\n",
       "      <td>0.007837</td>\n",
       "      <td>0.012934</td>\n",
       "      <td>0.044631</td>\n",
       "      <td>0.078445</td>\n",
       "      <td>...</td>\n",
       "      <td>0.185687</td>\n",
       "      <td>0.195794</td>\n",
       "      <td>0.201971</td>\n",
       "      <td>0.0</td>\n",
       "      <td>10.800129</td>\n",
       "      <td>8.017496</td>\n",
       "      <td>32.413296</td>\n",
       "      <td>0.054085</td>\n",
       "      <td>0.019730</td>\n",
       "      <td>0.034980</td>\n",
       "    </tr>\n",
       "    <tr>\n",
       "      <th>std</th>\n",
       "      <td>2.095989</td>\n",
       "      <td>0.022794</td>\n",
       "      <td>0.016951</td>\n",
       "      <td>0.010973</td>\n",
       "      <td>0.013648</td>\n",
       "      <td>0.042516</td>\n",
       "      <td>0.038464</td>\n",
       "      <td>0.038613</td>\n",
       "      <td>0.062856</td>\n",
       "      <td>0.087667</td>\n",
       "      <td>...</td>\n",
       "      <td>0.133425</td>\n",
       "      <td>0.129374</td>\n",
       "      <td>0.132494</td>\n",
       "      <td>0.0</td>\n",
       "      <td>4.883463</td>\n",
       "      <td>2.275191</td>\n",
       "      <td>6.161771</td>\n",
       "      <td>0.105650</td>\n",
       "      <td>0.034664</td>\n",
       "      <td>0.028113</td>\n",
       "    </tr>\n",
       "    <tr>\n",
       "      <th>min</th>\n",
       "      <td>0.000000</td>\n",
       "      <td>0.000000</td>\n",
       "      <td>0.000000</td>\n",
       "      <td>0.000000</td>\n",
       "      <td>0.000000</td>\n",
       "      <td>0.000000</td>\n",
       "      <td>0.000000</td>\n",
       "      <td>0.000000</td>\n",
       "      <td>0.000000</td>\n",
       "      <td>0.000000</td>\n",
       "      <td>...</td>\n",
       "      <td>0.000000</td>\n",
       "      <td>0.000000</td>\n",
       "      <td>0.000000</td>\n",
       "      <td>0.0</td>\n",
       "      <td>4.288839</td>\n",
       "      <td>3.332446</td>\n",
       "      <td>19.330000</td>\n",
       "      <td>0.000000</td>\n",
       "      <td>0.000000</td>\n",
       "      <td>0.000000</td>\n",
       "    </tr>\n",
       "    <tr>\n",
       "      <th>25%</th>\n",
       "      <td>0.000000</td>\n",
       "      <td>0.000000</td>\n",
       "      <td>0.000000</td>\n",
       "      <td>0.000000</td>\n",
       "      <td>0.000000</td>\n",
       "      <td>0.000000</td>\n",
       "      <td>0.000000</td>\n",
       "      <td>0.000000</td>\n",
       "      <td>0.000000</td>\n",
       "      <td>0.006700</td>\n",
       "      <td>...</td>\n",
       "      <td>0.087109</td>\n",
       "      <td>0.106828</td>\n",
       "      <td>0.103141</td>\n",
       "      <td>0.0</td>\n",
       "      <td>7.320669</td>\n",
       "      <td>6.177390</td>\n",
       "      <td>28.210021</td>\n",
       "      <td>0.000000</td>\n",
       "      <td>0.000000</td>\n",
       "      <td>0.018216</td>\n",
       "    </tr>\n",
       "    <tr>\n",
       "      <th>50%</th>\n",
       "      <td>0.000000</td>\n",
       "      <td>0.000000</td>\n",
       "      <td>0.000000</td>\n",
       "      <td>0.000000</td>\n",
       "      <td>0.000000</td>\n",
       "      <td>0.000000</td>\n",
       "      <td>0.000000</td>\n",
       "      <td>0.000000</td>\n",
       "      <td>0.013951</td>\n",
       "      <td>0.047436</td>\n",
       "      <td>...</td>\n",
       "      <td>0.174215</td>\n",
       "      <td>0.188345</td>\n",
       "      <td>0.183897</td>\n",
       "      <td>0.0</td>\n",
       "      <td>9.727552</td>\n",
       "      <td>7.896638</td>\n",
       "      <td>32.729999</td>\n",
       "      <td>0.006423</td>\n",
       "      <td>0.001790</td>\n",
       "      <td>0.026578</td>\n",
       "    </tr>\n",
       "    <tr>\n",
       "      <th>75%</th>\n",
       "      <td>0.000000</td>\n",
       "      <td>0.000000</td>\n",
       "      <td>0.000000</td>\n",
       "      <td>0.000000</td>\n",
       "      <td>0.000000</td>\n",
       "      <td>0.000000</td>\n",
       "      <td>0.000000</td>\n",
       "      <td>0.004121</td>\n",
       "      <td>0.073765</td>\n",
       "      <td>0.119861</td>\n",
       "      <td>...</td>\n",
       "      <td>0.271307</td>\n",
       "      <td>0.269418</td>\n",
       "      <td>0.294568</td>\n",
       "      <td>0.0</td>\n",
       "      <td>13.620368</td>\n",
       "      <td>9.574364</td>\n",
       "      <td>36.212501</td>\n",
       "      <td>0.062015</td>\n",
       "      <td>0.026908</td>\n",
       "      <td>0.041079</td>\n",
       "    </tr>\n",
       "    <tr>\n",
       "      <th>max</th>\n",
       "      <td>20.742695</td>\n",
       "      <td>0.139456</td>\n",
       "      <td>0.099467</td>\n",
       "      <td>0.103020</td>\n",
       "      <td>0.087879</td>\n",
       "      <td>0.409214</td>\n",
       "      <td>0.271003</td>\n",
       "      <td>0.309091</td>\n",
       "      <td>0.325490</td>\n",
       "      <td>0.350388</td>\n",
       "      <td>...</td>\n",
       "      <td>0.675676</td>\n",
       "      <td>0.595238</td>\n",
       "      <td>0.562500</td>\n",
       "      <td>0.0</td>\n",
       "      <td>31.048178</td>\n",
       "      <td>13.351708</td>\n",
       "      <td>53.480000</td>\n",
       "      <td>0.688623</td>\n",
       "      <td>0.192754</td>\n",
       "      <td>0.150909</td>\n",
       "    </tr>\n",
       "  </tbody>\n",
       "</table>\n",
       "<p>8 rows × 43 columns</p>\n",
       "</div>"
      ],
      "text/plain": [
       "                Y          h0          h1          h2          h3          h4  \\\n",
       "count  100.000000  100.000000  100.000000  100.000000  100.000000  100.000000   \n",
       "mean     0.310571    0.006241    0.004427    0.001770    0.002652    0.006450   \n",
       "std      2.095989    0.022794    0.016951    0.010973    0.013648    0.042516   \n",
       "min      0.000000    0.000000    0.000000    0.000000    0.000000    0.000000   \n",
       "25%      0.000000    0.000000    0.000000    0.000000    0.000000    0.000000   \n",
       "50%      0.000000    0.000000    0.000000    0.000000    0.000000    0.000000   \n",
       "75%      0.000000    0.000000    0.000000    0.000000    0.000000    0.000000   \n",
       "max     20.742695    0.139456    0.099467    0.103020    0.087879    0.409214   \n",
       "\n",
       "               h5          h6          h7          h8     ...         morning  \\\n",
       "count  100.000000  100.000000  100.000000  100.000000     ...      100.000000   \n",
       "mean     0.007837    0.012934    0.044631    0.078445     ...        0.185687   \n",
       "std      0.038464    0.038613    0.062856    0.087667     ...        0.133425   \n",
       "min      0.000000    0.000000    0.000000    0.000000     ...        0.000000   \n",
       "25%      0.000000    0.000000    0.000000    0.006700     ...        0.087109   \n",
       "50%      0.000000    0.000000    0.013951    0.047436     ...        0.174215   \n",
       "75%      0.000000    0.004121    0.073765    0.119861     ...        0.271307   \n",
       "max      0.271003    0.309091    0.325490    0.350388     ...        0.675676   \n",
       "\n",
       "        afternoon        noon  nightdriver        mean         std  \\\n",
       "count  100.000000  100.000000        100.0  100.000000  100.000000   \n",
       "mean     0.195794    0.201971          0.0   10.800129    8.017496   \n",
       "std      0.129374    0.132494          0.0    4.883463    2.275191   \n",
       "min      0.000000    0.000000          0.0    4.288839    3.332446   \n",
       "25%      0.106828    0.103141          0.0    7.320669    6.177390   \n",
       "50%      0.188345    0.183897          0.0    9.727552    7.896638   \n",
       "75%      0.269418    0.294568          0.0   13.620368    9.574364   \n",
       "max      0.595238    0.562500          0.0   31.048178   13.351708   \n",
       "\n",
       "              max  spped_30_40        call   direction  \n",
       "count  100.000000   100.000000  100.000000  100.000000  \n",
       "mean    32.413296     0.054085    0.019730    0.034980  \n",
       "std      6.161771     0.105650    0.034664    0.028113  \n",
       "min     19.330000     0.000000    0.000000    0.000000  \n",
       "25%     28.210021     0.000000    0.000000    0.018216  \n",
       "50%     32.729999     0.006423    0.001790    0.026578  \n",
       "75%     36.212501     0.062015    0.026908    0.041079  \n",
       "max     53.480000     0.688623    0.192754    0.150909  \n",
       "\n",
       "[8 rows x 43 columns]"
      ]
     },
     "execution_count": 56,
     "metadata": {},
     "output_type": "execute_result"
    }
   ],
   "source": [
    "f.describe()"
   ]
  },
  {
   "cell_type": "code",
   "execution_count": 66,
   "metadata": {},
   "outputs": [],
   "source": [
    "f2=f.copy()\n",
    "f2['Y']=f2.Y>0"
   ]
  },
  {
   "cell_type": "code",
   "execution_count": 70,
   "metadata": {},
   "outputs": [
    {
     "data": {
      "text/html": [
       "<div>\n",
       "<style scoped>\n",
       "    .dataframe tbody tr th:only-of-type {\n",
       "        vertical-align: middle;\n",
       "    }\n",
       "\n",
       "    .dataframe tbody tr th {\n",
       "        vertical-align: top;\n",
       "    }\n",
       "\n",
       "    .dataframe thead th {\n",
       "        text-align: right;\n",
       "    }\n",
       "</style>\n",
       "<table border=\"1\" class=\"dataframe\">\n",
       "  <thead>\n",
       "    <tr style=\"text-align: right;\">\n",
       "      <th></th>\n",
       "      <th>Y</th>\n",
       "      <th>h0</th>\n",
       "      <th>h1</th>\n",
       "      <th>h2</th>\n",
       "      <th>h3</th>\n",
       "      <th>h4</th>\n",
       "      <th>h5</th>\n",
       "      <th>h6</th>\n",
       "      <th>h7</th>\n",
       "      <th>h8</th>\n",
       "      <th>...</th>\n",
       "      <th>morning</th>\n",
       "      <th>afternoon</th>\n",
       "      <th>noon</th>\n",
       "      <th>nightdriver</th>\n",
       "      <th>mean</th>\n",
       "      <th>std</th>\n",
       "      <th>max</th>\n",
       "      <th>spped_30_40</th>\n",
       "      <th>call</th>\n",
       "      <th>direction</th>\n",
       "    </tr>\n",
       "  </thead>\n",
       "  <tbody>\n",
       "    <tr>\n",
       "      <th>0</th>\n",
       "      <td>False</td>\n",
       "      <td>0.139456</td>\n",
       "      <td>0.010204</td>\n",
       "      <td>0.0</td>\n",
       "      <td>0.0</td>\n",
       "      <td>0.0</td>\n",
       "      <td>0.0</td>\n",
       "      <td>0.0</td>\n",
       "      <td>0.000000</td>\n",
       "      <td>0.034014</td>\n",
       "      <td>...</td>\n",
       "      <td>0.044444</td>\n",
       "      <td>0.200000</td>\n",
       "      <td>0.088889</td>\n",
       "      <td>0.0</td>\n",
       "      <td>17.489840</td>\n",
       "      <td>11.759998</td>\n",
       "      <td>32.779999</td>\n",
       "      <td>0.272109</td>\n",
       "      <td>0.003401</td>\n",
       "      <td>0.000000</td>\n",
       "    </tr>\n",
       "    <tr>\n",
       "      <th>1</th>\n",
       "      <td>False</td>\n",
       "      <td>0.126374</td>\n",
       "      <td>0.076923</td>\n",
       "      <td>0.0</td>\n",
       "      <td>0.0</td>\n",
       "      <td>0.0</td>\n",
       "      <td>0.0</td>\n",
       "      <td>0.0</td>\n",
       "      <td>0.000000</td>\n",
       "      <td>0.000000</td>\n",
       "      <td>...</td>\n",
       "      <td>0.000000</td>\n",
       "      <td>0.181818</td>\n",
       "      <td>0.363636</td>\n",
       "      <td>0.0</td>\n",
       "      <td>9.287734</td>\n",
       "      <td>12.378971</td>\n",
       "      <td>36.119999</td>\n",
       "      <td>0.131868</td>\n",
       "      <td>0.038462</td>\n",
       "      <td>0.020604</td>\n",
       "    </tr>\n",
       "    <tr>\n",
       "      <th>2</th>\n",
       "      <td>False</td>\n",
       "      <td>0.000000</td>\n",
       "      <td>0.000000</td>\n",
       "      <td>0.0</td>\n",
       "      <td>0.0</td>\n",
       "      <td>0.0</td>\n",
       "      <td>0.0</td>\n",
       "      <td>0.0</td>\n",
       "      <td>0.240914</td>\n",
       "      <td>0.330218</td>\n",
       "      <td>...</td>\n",
       "      <td>0.675676</td>\n",
       "      <td>0.189189</td>\n",
       "      <td>0.054054</td>\n",
       "      <td>0.0</td>\n",
       "      <td>7.987331</td>\n",
       "      <td>6.135286</td>\n",
       "      <td>25.440001</td>\n",
       "      <td>0.000000</td>\n",
       "      <td>0.001038</td>\n",
       "      <td>0.030114</td>\n",
       "    </tr>\n",
       "    <tr>\n",
       "      <th>3</th>\n",
       "      <td>False</td>\n",
       "      <td>0.000000</td>\n",
       "      <td>0.000000</td>\n",
       "      <td>0.0</td>\n",
       "      <td>0.0</td>\n",
       "      <td>0.0</td>\n",
       "      <td>0.0</td>\n",
       "      <td>0.0</td>\n",
       "      <td>0.029040</td>\n",
       "      <td>0.023990</td>\n",
       "      <td>...</td>\n",
       "      <td>0.142857</td>\n",
       "      <td>0.255102</td>\n",
       "      <td>0.295918</td>\n",
       "      <td>0.0</td>\n",
       "      <td>6.312753</td>\n",
       "      <td>6.287498</td>\n",
       "      <td>33.310001</td>\n",
       "      <td>0.010101</td>\n",
       "      <td>0.020202</td>\n",
       "      <td>0.051768</td>\n",
       "    </tr>\n",
       "    <tr>\n",
       "      <th>4</th>\n",
       "      <td>False</td>\n",
       "      <td>0.000000</td>\n",
       "      <td>0.000000</td>\n",
       "      <td>0.0</td>\n",
       "      <td>0.0</td>\n",
       "      <td>0.0</td>\n",
       "      <td>0.0</td>\n",
       "      <td>0.0</td>\n",
       "      <td>0.086379</td>\n",
       "      <td>0.052049</td>\n",
       "      <td>...</td>\n",
       "      <td>0.164706</td>\n",
       "      <td>0.164706</td>\n",
       "      <td>0.235294</td>\n",
       "      <td>0.0</td>\n",
       "      <td>7.695846</td>\n",
       "      <td>8.218610</td>\n",
       "      <td>53.480000</td>\n",
       "      <td>0.006645</td>\n",
       "      <td>0.000000</td>\n",
       "      <td>0.007752</td>\n",
       "    </tr>\n",
       "  </tbody>\n",
       "</table>\n",
       "<p>5 rows × 43 columns</p>\n",
       "</div>"
      ],
      "text/plain": [
       "       Y        h0        h1   h2   h3   h4   h5   h6        h7        h8  \\\n",
       "0  False  0.139456  0.010204  0.0  0.0  0.0  0.0  0.0  0.000000  0.034014   \n",
       "1  False  0.126374  0.076923  0.0  0.0  0.0  0.0  0.0  0.000000  0.000000   \n",
       "2  False  0.000000  0.000000  0.0  0.0  0.0  0.0  0.0  0.240914  0.330218   \n",
       "3  False  0.000000  0.000000  0.0  0.0  0.0  0.0  0.0  0.029040  0.023990   \n",
       "4  False  0.000000  0.000000  0.0  0.0  0.0  0.0  0.0  0.086379  0.052049   \n",
       "\n",
       "     ...       morning  afternoon      noon  nightdriver       mean  \\\n",
       "0    ...      0.044444   0.200000  0.088889          0.0  17.489840   \n",
       "1    ...      0.000000   0.181818  0.363636          0.0   9.287734   \n",
       "2    ...      0.675676   0.189189  0.054054          0.0   7.987331   \n",
       "3    ...      0.142857   0.255102  0.295918          0.0   6.312753   \n",
       "4    ...      0.164706   0.164706  0.235294          0.0   7.695846   \n",
       "\n",
       "         std        max  spped_30_40      call  direction  \n",
       "0  11.759998  32.779999     0.272109  0.003401   0.000000  \n",
       "1  12.378971  36.119999     0.131868  0.038462   0.020604  \n",
       "2   6.135286  25.440001     0.000000  0.001038   0.030114  \n",
       "3   6.287498  33.310001     0.010101  0.020202   0.051768  \n",
       "4   8.218610  53.480000     0.006645  0.000000   0.007752  \n",
       "\n",
       "[5 rows x 43 columns]"
      ]
     },
     "execution_count": 70,
     "metadata": {},
     "output_type": "execute_result"
    }
   ],
   "source": [
    "f2.head()"
   ]
  },
  {
   "cell_type": "code",
   "execution_count": 79,
   "metadata": {},
   "outputs": [
    {
     "data": {
      "text/plain": [
       "<seaborn.axisgrid.FacetGrid at 0x1e4abfff9b0>"
      ]
     },
     "execution_count": 79,
     "metadata": {},
     "output_type": "execute_result"
    },
    {
     "data": {
      "image/png": "[encoded data removed]",
      "text/plain": [
       "<matplotlib.figure.Figure at 0x1e4ac04dba8>"
      ]
     },
     "metadata": {},
     "output_type": "display_data"
    }
   ],
   "source": [
    "s=sns.FacetGrid(f2,col='Y')\n",
    "s.map(sns.distplot,'call',kde=True,)"
   ]
  },
  {
   "cell_type": "code",
   "execution_count": 82,
   "metadata": {},
   "outputs": [
    {
     "data": {
      "text/plain": [
       "<seaborn.axisgrid.FacetGrid at 0x1e4abdd3ac8>"
      ]
     },
     "execution_count": 82,
     "metadata": {},
     "output_type": "execute_result"
    },
    {
     "data": {
      "image/png": "[encoded data removed]",
      "text/plain": [
       "<matplotlib.figure.Figure at 0x1e4aabe4f60>"
      ]
     },
     "metadata": {},
     "output_type": "display_data"
    }
   ],
   "source": [
    "sns.factorplot(x='call',y='Y',data=f2,col='h12')"
   ]
  },
  {
   "cell_type": "code",
   "execution_count": null,
   "metadata": {},
   "outputs": [],
   "source": []
  },
  {
   "cell_type": "code",
   "execution_count": null,
   "metadata": {},
   "outputs": [],
   "source": []
  },
  {
   "cell_type": "code",
   "execution_count": null,
   "metadata": {},
   "outputs": [],
   "source": []
  },
  {
   "cell_type": "markdown",
   "metadata": {},
   "source": [
    "## 处理y值，好像没有效果\n",
    "* y的分布也是很不均匀的"
   ]
  },
  {
   "cell_type": "markdown",
   "metadata": {},
   "source": []
  },
  {
   "cell_type": "code",
   "execution_count": null,
   "metadata": {},
   "outputs": [],
   "source": []
  },
  {
   "cell_type": "code",
   "execution_count": null,
   "metadata": {},
   "outputs": [],
   "source": []
  },
  {
   "cell_type": "code",
   "execution_count": null,
   "metadata": {},
   "outputs": [],
   "source": []
  },
  {
   "cell_type": "code",
   "execution_count": null,
   "metadata": {},
   "outputs": [],
   "source": []
  },
  {
   "cell_type": "code",
   "execution_count": null,
   "metadata": {},
   "outputs": [],
   "source": []
  },
  {
   "cell_type": "markdown",
   "metadata": {},
   "source": [
    "## 1. 方向问题\n",
    "* 周期性变化\n",
    "* 暂时不处理"
   ]
  },
  {
   "cell_type": "code",
   "execution_count": 25,
   "metadata": {
    "scrolled": false
   },
   "outputs": [
    {
     "data": {
      "text/plain": [
       "<matplotlib.axes._subplots.AxesSubplot at 0x1e4e2a7e6d8>"
      ]
     },
     "execution_count": 25,
     "metadata": {},
     "output_type": "execute_result"
    },
    {
     "data": {
      "image/png": "[encoded data removed]",
      "text/plain": [
       "<matplotlib.figure.Figure at 0x1e4e2c70668>"
      ]
     },
     "metadata": {},
     "output_type": "display_data"
    }
   ],
   "source": [
    "m=train.groupby('DIRECTION').mean()\n",
    "sns.pointplot(m.index,m.Y)"
   ]
  },
  {
   "cell_type": "code",
   "execution_count": 26,
   "metadata": {},
   "outputs": [],
   "source": [
    "def Direction(user):\n",
    "    '''\n",
    "    一般大路应该都是正南正北，正东正西\n",
    "    用来计算与0,90,180,360，的夹角小于0.01\n",
    "    return list \n",
    "    'direction'\n",
    "    在大路上开的概率\n",
    "    '''\n",
    "    name=['direction']\n",
    "    direct=user.DIRECTION/90#direction\n",
    "    direct=np.abs(direct-np.round(direct))\n",
    "    return [(direct<0.01).mean()],name"
   ]
  },
  {
   "cell_type": "code",
   "execution_count": 27,
   "metadata": {},
   "outputs": [
    {
     "data": {
      "text/plain": [
       "([0.024355300859598854], ['direction'])"
      ]
     },
     "execution_count": 27,
     "metadata": {},
     "output_type": "execute_result"
    }
   ],
   "source": [
    "Direction(user0)\n"
   ]
  },
  {
   "cell_type": "code",
   "execution_count": 28,
   "metadata": {},
   "outputs": [
    {
     "data": {
      "text/html": [
       "<div>\n",
       "<style scoped>\n",
       "    .dataframe tbody tr th:only-of-type {\n",
       "        vertical-align: middle;\n",
       "    }\n",
       "\n",
       "    .dataframe tbody tr th {\n",
       "        vertical-align: top;\n",
       "    }\n",
       "\n",
       "    .dataframe thead th {\n",
       "        text-align: right;\n",
       "    }\n",
       "</style>\n",
       "<table border=\"1\" class=\"dataframe\">\n",
       "  <thead>\n",
       "    <tr style=\"text-align: right;\">\n",
       "      <th></th>\n",
       "      <th>TERMINALNO</th>\n",
       "      <th>TRIP_ID</th>\n",
       "      <th>LONGITUDE</th>\n",
       "      <th>LATITUDE</th>\n",
       "      <th>HEIGHT</th>\n",
       "      <th>SPEED</th>\n",
       "      <th>CALLSTATE</th>\n",
       "      <th>Y</th>\n",
       "    </tr>\n",
       "    <tr>\n",
       "      <th>d</th>\n",
       "      <th></th>\n",
       "      <th></th>\n",
       "      <th></th>\n",
       "      <th></th>\n",
       "      <th></th>\n",
       "      <th></th>\n",
       "      <th></th>\n",
       "      <th></th>\n",
       "    </tr>\n",
       "  </thead>\n",
       "  <tbody>\n",
       "    <tr>\n",
       "      <th>False</th>\n",
       "      <td>51.930505</td>\n",
       "      <td>37.789391</td>\n",
       "      <td>114.460812</td>\n",
       "      <td>31.781362</td>\n",
       "      <td>180.768157</td>\n",
       "      <td>9.322839</td>\n",
       "      <td>1.608550</td>\n",
       "      <td>0.226869</td>\n",
       "    </tr>\n",
       "    <tr>\n",
       "      <th>True</th>\n",
       "      <td>53.314718</td>\n",
       "      <td>34.259055</td>\n",
       "      <td>114.734955</td>\n",
       "      <td>31.659183</td>\n",
       "      <td>134.139967</td>\n",
       "      <td>7.346875</td>\n",
       "      <td>2.104459</td>\n",
       "      <td>0.148104</td>\n",
       "    </tr>\n",
       "  </tbody>\n",
       "</table>\n",
       "</div>"
      ],
      "text/plain": [
       "       TERMINALNO    TRIP_ID   LONGITUDE   LATITUDE      HEIGHT     SPEED  \\\n",
       "d                                                                           \n",
       "False   51.930505  37.789391  114.460812  31.781362  180.768157  9.322839   \n",
       "True    53.314718  34.259055  114.734955  31.659183  134.139967  7.346875   \n",
       "\n",
       "       CALLSTATE         Y  \n",
       "d                           \n",
       "False   1.608550  0.226869  \n",
       "True    2.104459  0.148104  "
      ]
     },
     "execution_count": 28,
     "metadata": {},
     "output_type": "execute_result"
    }
   ],
   "source": [
    "m=train.groupby('DIRECTION').mean()\n",
    "delta=0.01\n",
    "m_90=m.index/90\n",
    "m_90=m_90-np.round(m_90)\n",
    "m['d']=np.abs(m_90)<delta\n",
    "m2=m.groupby('d').mean()\n",
    "m2\n",
    "#sns.pointplot(m2.index,m2.Y)"
   ]
  },
  {
   "cell_type": "markdown",
   "metadata": {},
   "source": [
    "## 2. 海拔\n"
   ]
  },
  {
   "cell_type": "markdown",
   "metadata": {},
   "source": [
    "* 海拔高度图"
   ]
  },
  {
   "cell_type": "code",
   "execution_count": 29,
   "metadata": {
    "scrolled": false
   },
   "outputs": [
    {
     "data": {
      "image/png": "[encoded data removed]",
      "text/plain": [
       "<matplotlib.figure.Figure at 0x1e4e347ac88>"
      ]
     },
     "metadata": {},
     "output_type": "display_data"
    }
   ],
   "source": [
    "plt.scatter(train.LONGITUDE,train.LATITUDE,c=train.HEIGHT)\n",
    "plt.colorbar()\n",
    "plt.show()"
   ]
  },
  {
   "cell_type": "markdown",
   "metadata": {},
   "source": [
    "* 赔付比率图"
   ]
  },
  {
   "cell_type": "code",
   "execution_count": 36,
   "metadata": {
    "scrolled": true
   },
   "outputs": [
    {
     "data": {
      "text/plain": [
       "<matplotlib.collections.PathCollection at 0x1e4e61edf28>"
      ]
     },
     "execution_count": 36,
     "metadata": {},
     "output_type": "execute_result"
    },
    {
     "data": {
      "image/png": "[encoded data removed]",
      "text/plain": [
       "<matplotlib.figure.Figure at 0x1e4e5f9c4a8>"
      ]
     },
     "metadata": {},
     "output_type": "display_data"
    }
   ],
   "source": [
    "plt.scatter(train.HEIGHT,train.Y,c=train.Y)\n"
   ]
  },
  {
   "cell_type": "code",
   "execution_count": 31,
   "metadata": {
    "scrolled": true
   },
   "outputs": [
    {
     "data": {
      "image/png": "[encoded data removed]",
      "text/plain": [
       "<matplotlib.figure.Figure at 0x1e4e3aaa470>"
      ]
     },
     "metadata": {},
     "output_type": "display_data"
    }
   ],
   "source": [
    "train['logY']=[np.log(i) if i>0 else -3 for i in train.Y]\n",
    "plt.scatter(train.LONGITUDE,train.LATITUDE,c=train.logY)\n",
    "plt.colorbar()\n",
    "plt.show()"
   ]
  },
  {
   "cell_type": "code",
   "execution_count": 37,
   "metadata": {},
   "outputs": [
    {
     "data": {
      "text/plain": [
       "<matplotlib.collections.PathCollection at 0x1e4e629b358>"
      ]
     },
     "execution_count": 37,
     "metadata": {},
     "output_type": "execute_result"
    },
    {
     "data": {
      "image/png": "[encoded data removed]",
      "text/plain": [
       "<matplotlib.figure.Figure at 0x1e4e31fc630>"
      ]
     },
     "metadata": {},
     "output_type": "display_data"
    }
   ],
   "source": [
    "train['H']=np.searchsorted([500,1000,1500],train.HEIGHT)\n",
    "m=train.groupby('HEIGHT').mean()\n",
    "mh=train.groupby('H').mean()\n",
    "plt.scatter(mh.index,mh.Y)"
   ]
  },
  {
   "cell_type": "code",
   "execution_count": 38,
   "metadata": {},
   "outputs": [],
   "source": [
    "def Height(user):\n",
    "    '''\n",
    "    计算四种海拔高度的概率\n",
    "    ['sm500,'sm1000','sm1500','bt1500']\n",
    "    '''\n",
    "    name=['sm500','sm1000','sm1500','bt1500']\n",
    "    clas_=[500,1000,1500]\n",
    "    sort_height=np.searchsorted(clas_,user.HEIGHT)\n",
    "    res_=[]\n",
    "    lenofdata=len(sort_height)\n",
    "    count=Counter(sort_height)    \n",
    "    for i in range(len(clas_)+1):\n",
    "        res_.append(count[i]/lenofdata) \n",
    "    return res_,name"
   ]
  },
  {
   "cell_type": "code",
   "execution_count": 39,
   "metadata": {},
   "outputs": [
    {
     "data": {
      "text/plain": [
       "([1.0, 0.0, 0.0, 0.0], ['sm500', 'sm1000', 'sm1500', 'bt1500'])"
      ]
     },
     "execution_count": 39,
     "metadata": {},
     "output_type": "execute_result"
    }
   ],
   "source": [
    "Height(user0)"
   ]
  },
  {
   "cell_type": "code",
   "execution_count": 40,
   "metadata": {
    "scrolled": false
   },
   "outputs": [
    {
     "data": {
      "text/plain": [
       "<seaborn.axisgrid.FacetGrid at 0x1e4e713ef60>"
      ]
     },
     "execution_count": 40,
     "metadata": {},
     "output_type": "execute_result"
    },
    {
     "data": {
      "image/png": "[encoded data removed]",
      "text/plain": [
       "<matplotlib.figure.Figure at 0x1e4e5fb47b8>"
      ]
     },
     "metadata": {},
     "output_type": "display_data"
    }
   ],
   "source": [
    "train['yeq0']=train.Y==0\n",
    "a=sns.FacetGrid(data=train,hue='yeq0')\n",
    "a.map(sns.distplot,'HEIGHT')"
   ]
  },
  {
   "cell_type": "markdown",
   "metadata": {},
   "source": [
    "## 4. 未知速度比率\n",
    "* 暂时不处理"
   ]
  },
  {
   "cell_type": "code",
   "execution_count": null,
   "metadata": {
    "scrolled": true
   },
   "outputs": [],
   "source": [
    "(train==-1).mean()"
   ]
  }
 ],
 "metadata": {
  "kernelspec": {
   "display_name": "Python 3",
   "language": "python",
   "name": "python3"
  },
  "language_info": {
   "codemirror_mode": {
    "name": "ipython",
    "version": 3
   },
   "file_extension": ".py",
   "mimetype": "text/x-python",
   "name": "python",
   "nbconvert_exporter": "python",
   "pygments_lexer": "ipython3",
   "version": "3.6.4"
  }
 },
 "nbformat": 4,
 "nbformat_minor": 2
}
